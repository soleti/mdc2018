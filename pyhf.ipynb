{
 "cells": [
  {
   "cell_type": "markdown",
   "metadata": {},
   "source": [
    "\n",
    "# MDC2018 $e^-$ binned likelihood spectrum fit\n",
    "In this notebook we will plot the reconstructed momentum spectrum of $e^-$ candidates and we will perform a binned likelihood to get the number of CE and DIOs. A calculation of the corresponding $R_{\\mu e}$ is done at the end."
   ]
  },
  {
   "cell_type": "code",
   "execution_count": 1,
   "metadata": {},
   "outputs": [],
   "source": [
    "import uproot\n",
    "import numpy as np\n",
    "import matplotlib.pyplot as plt\n",
    "import pyhf\n",
    "import pyhf.readxml\n",
    "import os\n",
    "import scipy.stats\n",
    "import json\n",
    "import tensorflow as tf\n",
    "import math"
   ]
  },
  {
   "cell_type": "code",
   "execution_count": 2,
   "metadata": {},
   "outputs": [],
   "source": [
    "pyhf.set_backend(\"numpy\", pyhf.optimize.minuit_optimizer(verbose=False))"
   ]
  },
  {
   "cell_type": "code",
   "execution_count": 3,
   "metadata": {},
   "outputs": [],
   "source": [
    "def default_flatname(branchname, fieldname, index):\n",
    "    out = branchname.replace(\".\", \"_\")\n",
    "    if not isinstance(branchname, str):\n",
    "        out = branchname.decode(\"utf-8\")\n",
    "    if fieldname is not None:\n",
    "        fieldname.replace(\".\", \"_\")\n",
    "        out += \"_\" + fieldname\n",
    "    if index != ():\n",
    "        out += \"[\" + \"][\".join(str(x) for x in index) + \"]\"\n",
    "    return out"
   ]
  },
  {
   "cell_type": "code",
   "execution_count": 4,
   "metadata": {},
   "outputs": [],
   "source": [
    "cuts = [\n",
    "    \"de_status > 0\",\n",
    "    \"de_t0 > 700\",\n",
    "    \"de_t0 < 1695\",\n",
    "    \"deent_td > 0.577350\",\n",
    "    \"deent_td < 1.000\",\n",
    "    \"deent_d0 < 105\",\n",
    "    \"-deent_d0 < 80\",\n",
    "    \"(deent_d0 + 2./deent_om) > 450\",\n",
    "    \"(deent_d0 + 2./deent_om) < 680\",\n",
    "    \"dequal_TrkQual > 0.8\",\n",
    "    \"dequal_TrkPID > 0.95\",\n",
    "    \"ue_status <= 0\",\n",
    "    \"deent_mom > 95\",\n",
    "    \"(bestcrv < 0 | ((-de_t0 + crvinfo__timeWindowStart_best) > 50 | (de_t0-crvinfo__timeWindowStart_best) > 150.0))\",\n",
    "]\n",
    "\n",
    "cut = \" & \".join(cuts)"
   ]
  },
  {
   "cell_type": "code",
   "execution_count": 5,
   "metadata": {},
   "outputs": [],
   "source": [
    "run_files = [\"root_files/trkana-ensemble-run1i-MC.root\", \n",
    "             \"root_files/trkana-ensemble-run2i-MC.root\", \n",
    "             \"root_files/trkana-ensemble-run3i-MC.root\", \n",
    "             \"root_files/trkana-ensemble-run4i-MC.root\",\n",
    "             \"root_files/trkana-ensemble-run5i-MC.root\",\n",
    "             \"root_files/trkana-ensemble-run6i-MC.root\",\n",
    "             \"root_files/trkana-ensemble-run7i-MC.root\"]"
   ]
  },
  {
   "cell_type": "code",
   "execution_count": 6,
   "metadata": {},
   "outputs": [],
   "source": [
    "df_datas = []\n",
    "\n",
    "true_ces = []\n",
    "true_dios_reco = []\n",
    "true_dios = []\n",
    "\n",
    "for f in run_files:\n",
    "    file = uproot.open(f)\n",
    "    trkananeg = file[\"TrkAnaNeg\"][\"trkana\"]\n",
    "\n",
    "    df_data = trkananeg.pandas.df(flatname=default_flatname, flatten=False)\n",
    "    df_data[\"is_triggered\"] = (df_data[\"trigbits\"].values & 0x208) > 0\n",
    "    df_data[\"crvinfo__timeWindowStart_best\"] = [twstart[index] \n",
    "                                           if index>=0 else 0\n",
    "                                           for index, twstart in zip(df_data[\"bestcrv\"], df_data[\"crvinfo__timeWindowStart\"])]\n",
    "    df_data[\"demcgen_mom\"] = np.sqrt(df_data[\"demcgen_momx\"]**2+df_data[\"demcgen_momy\"]**2+df_data[\"demcgen_momz\"]**2)\n",
    "\n",
    "    true_ces.append(len(df_data.query(\"demcgen_gen==43  & demcgen_mom >= 95\")))\n",
    "    true_dios.append(len(df_data.query(\"demcgen_gen == 7 & demcgen_mom >= 95\")))\n",
    "    true_dios_reco.append(len(df_data.query(\"demcgen_gen == 7 & demcgen_mom >= 95 & deent_mom >= 95\")))\n",
    "    \n",
    "    df_datas.append(df_data.query(cut))\n",
    "    \n",
    "    \n",
    "true_ces_cuts_reco = []\n",
    "true_dios_cuts_reco = []\n",
    "for df in df_datas:\n",
    "    true_dios_cuts_reco.append(len(df.query(\"demcgen_gen == 7\")))\n",
    "    true_ces_cuts_reco.append(len(df.query(\"demcgen_gen == 43\")))"
   ]
  },
  {
   "cell_type": "code",
   "execution_count": 7,
   "metadata": {},
   "outputs": [],
   "source": [
    "bounds = [[0.5, 1.5, 0.1], [0.0, 3.0, 0.1], [0.0, 0.05, 0.001]]\n",
    "labels = ['DIO', 'CE']"
   ]
  },
  {
   "cell_type": "code",
   "execution_count": 39,
   "metadata": {},
   "outputs": [],
   "source": [
    "def poisson_err(x):\n",
    "    # From http://www.pp.rhul.ac.uk/~cowan/atlas/ErrorBars.pdf\n",
    "    upper = 0.5*scipy.stats.chi2.ppf(1-0.158655, 2*(x+1))\n",
    "    lower = 0.5*scipy.stats.chi2.ppf(0.158655, 2*x)\n",
    "    return x-lower, upper-x\n",
    "\n",
    "def ratio_err(num, den, num_err, den_err):\n",
    "    n, d, n_e, d_e = num, den, num_err, den_err\n",
    "    return np.abs(n/d) * np.sqrt((n_e/n)**2+(d_e/d)**2)\n",
    "\n",
    "\n",
    "def get_mc_counts(pars):\n",
    "    deltas, factors = pdf._modifications(pars)\n",
    "    allsum = pyhf.tensorlib.concatenate(\n",
    "        deltas + [pyhf.tensorlib.astensor(pdf.nominal_rates)]\n",
    "    )\n",
    "    nom_plus_delta = pyhf.tensorlib.sum(allsum, axis=0)\n",
    "    nom_plus_delta = pyhf.tensorlib.reshape(\n",
    "        nom_plus_delta, (1,) + pyhf.tensorlib.shape(nom_plus_delta)\n",
    "    )\n",
    "    allfac = pyhf.tensorlib.concatenate(factors + [nom_plus_delta])\n",
    "    return pyhf.tensorlib.product(allfac, axis=0)\n",
    "\n",
    "\n",
    "ces = []\n",
    "dios = []\n",
    "\n",
    "ces_error = []\n",
    "dios_error = []\n",
    "\n",
    "def plot(ax=None, order=[3, 2, 1, 0], errors=[], **par_settings):\n",
    "    pars = pyhf.tensorlib.astensor(pdf.config.suggested_init())\n",
    "    for k, v in par_settings.items():\n",
    "        pars[par_name_dict[k]] = v\n",
    "\n",
    "    mc_counts = get_mc_counts(pars)\n",
    "    bottom = None\n",
    "\n",
    "    for i, sample_index in enumerate(order):\n",
    "        data = mc_counts[sample_index][0]\n",
    "        x = np.arange(95,115,0.25)\n",
    "        err = sum(data)*errors[i+1]\n",
    "        if i == 1:\n",
    "            ces.append(sum(data))\n",
    "            ces_error.append(err)\n",
    "        if i == 0:\n",
    "            dios.append(sum(data))\n",
    "            dios_error.append(err)\n",
    "        ax.bar(x, data, 0.25, bottom=bottom, alpha=1.0, label=labels[i]+(r\": $%.2f\\pm%.2f$ events\" % (sum(data), err)))\n",
    "        bottom = data if i == 0 else bottom + data\n",
    "    \n",
    "    data_hist = np.array(workspace.data(pdf, with_aux=False))\n",
    "    ax.errorbar(x, data_hist, yerr=poisson_err(data_hist), fmt='o', color='k', zorder=99)\n",
    "    "
   ]
  },
  {
   "cell_type": "code",
   "execution_count": null,
   "metadata": {},
   "outputs": [],
   "source": [
    "fig, ax = plt.subplots(4,2, figsize=(14, 16))\n",
    "\n",
    "r_mues = [9.418019e-14,\n",
    "          0,\n",
    "          1e-14,\n",
    "          2e-14,\n",
    "          4e-14,\n",
    "          8e-14,\n",
    "          1.6e-13]\n",
    "\n",
    "i=0\n",
    "for row in range(4):\n",
    "    for column in range(2):\n",
    "        if i < 7:\n",
    "            with open(\"meas.json\") as spec_file:\n",
    "                spec = json.load(spec_file)\n",
    "            spec['observations'][0]['data'] = np.histogram(df_datas[i]['deent_mom'], bins=80, range=(95,115))[0].tolist()\n",
    "            workspace = pyhf.Workspace(spec)\n",
    "            pdf = workspace.model(measurement_name='meas')\n",
    "            \n",
    "            par_name_dict = {k: v[\"slice\"].start for k, v in pdf.config.par_map.items()}\n",
    "            all_par_settings = {\n",
    "                n[0]: tuple(m)\n",
    "                for n, m in zip(\n",
    "                    sorted(reversed(list(par_name_dict.items())), key=lambda x: x[1]),\n",
    "                    bounds,\n",
    "                )\n",
    "            }\n",
    "            default_par_settings = {n[0]: sum(tuple(m)) / 2.0 for n, m in all_par_settings.items()}\n",
    "            \n",
    "            data = workspace.data(pdf)\n",
    "            workspace.get_measurement(measurement_name='meas')\n",
    "            best_fit = pyhf.infer.mle.fit(data, pdf, return_uncertainties=True)\n",
    "            plot(ax=ax[row][column], order=[0,1], errors=best_fit[:, 1]/best_fit[:, 0], **{k: best_fit[:, 0][v] for k,v in par_name_dict.items()});\n",
    "            ax[row][column].set_title(\"Run %i $R_{\\mu e} =$ %g\" % (i+1, r_mues[i]))\n",
    "            ax[row][column].set_ylim(bottom=0.5)\n",
    "            ax[row][column].set_xlim(95,110)\n",
    "            ax[row][column].set_yscale('log')    \n",
    "            ax[row][column].set_xlabel(r\"Reco. momentum [MeV/$c$]\", fontsize=12)\n",
    "            ax[row][column].set_ylabel(r\"N. entries / 0.25 MeV/$c$\", fontsize=12)\n",
    "            ax[row][column].legend(frameon=False)\n",
    "            i+=1\n",
    "\n",
    "ax[-1, -1].axis('off')\n",
    "fig.tight_layout()"
   ]
  },
  {
   "cell_type": "code",
   "execution_count": 11,
   "metadata": {},
   "outputs": [
    {
     "data": {
      "image/png": "[encoded data removed]",
      "text/plain": [
       "<Figure size 432x288 with 1 Axes>"
      ]
     },
     "metadata": {
      "needs_background": "light"
     },
     "output_type": "display_data"
    }
   ],
   "source": [
    "plt.errorbar(true_ces_cuts_reco, ces, yerr=ces_error, fmt='ko')\n",
    "plt.xlim(0,70)\n",
    "plt.ylim(0,70)\n",
    "plt.plot(plt.xlim(), plt.ylim(), ls=\"--\", c=\".3\")\n",
    "plt.axes().set_aspect('equal', 'box')\n",
    "plt.xlabel(r\"$N_{\\mathrm{CE}}^{\\mathrm{true}}$\")\n",
    "_ = plt.ylabel(r\"$N_{\\mathrm{CE}}^{\\mathrm{fit}}$\")"
   ]
  },
  {
   "cell_type": "code",
   "execution_count": 12,
   "metadata": {},
   "outputs": [
    {
     "data": {
      "image/png": "[encoded data removed]",
      "text/plain": [
       "<Figure size 432x288 with 1 Axes>"
      ]
     },
     "metadata": {
      "needs_background": "light"
     },
     "output_type": "display_data"
    }
   ],
   "source": [
    "plt.errorbar(true_dios_cuts_reco, dios, yerr=dios_error, fmt='ko')\n",
    "plt.xlim(3600,3900)\n",
    "plt.ylim(3600,3900)\n",
    "plt.plot(plt.xlim(), plt.ylim(), ls=\"--\", c=\".3\")\n",
    "plt.axes().set_aspect('equal', 'box')\n",
    "plt.xlabel(r\"$N_{\\mathrm{DIO}}^{\\mathrm{true}}$\")\n",
    "_ = plt.ylabel(r\"$N_{\\mathrm{DIO}}^{\\mathrm{fit}}$\")"
   ]
  },
  {
   "cell_type": "markdown",
   "metadata": {},
   "source": [
    "## $R_{\\mu e}$ calculation\n",
    "\n",
    "It is possible to calculate the $R_{\\mu e}$ corresponding to the number of fitted CEs and DIOS with the following formula:\n",
    "\\begin{equation}\n",
    "R_{\\mu e} = \\frac{f_\\mathrm{DIO}f_\\mathrm{DIO>95~MeV}}{f_\\mathrm{cap}}\\frac{N_{\\mathrm{CE}}}{N_{\\mathrm{DIO}}}\\frac{p_\\mathrm{reco>95~MeV}}{p_\\mathrm{true>95~MeV}},\n",
    "\\end{equation}\n",
    "\n",
    "where $f_\\mathrm{cap}=0.609$, $f_\\mathrm{DIO}=0.391$, $f_\\mathrm{DIO>96.5~MeV}$ is the fraction of DIOs with an energy larger than 96.5 MeV ($1.29\\times10^{-11}$), taken from the tabulated Czarnecki-Szafron values, and $\\epsilon_{\\mathrm{reco}}(E)$ is the cuts efficiency as a function of the reconstructed momentum $p$.\n",
    "\n",
    "The factor $\\frac{p_\\mathrm{reco>96.5~MeV}}{p_\\mathrm{true>96.5~MeV}}$ takes into account the number of DIOs that gets \"smeared out\" from our window."
   ]
  },
  {
   "cell_type": "code",
   "execution_count": 13,
   "metadata": {},
   "outputs": [],
   "source": [
    "x,y = np.array([]), np.array([])\n",
    "\n",
    "with open('czarnecki_szafron_Al_2016.tbl', 'r') as f:\n",
    "    for l in f:\n",
    "        row = l.split()\n",
    "        x = np.append(x,float(row[0]))\n",
    "        y = np.append(y,float(row[1]))\n",
    "\n",
    "f_dio_start = np.trapz(y[x>=95],x=x[x>=95])\n",
    "\n",
    "f_cap = 0.609\n",
    "f_dio = 0.391\n"
   ]
  },
  {
   "cell_type": "code",
   "execution_count": 14,
   "metadata": {},
   "outputs": [
    {
     "data": {
      "image/png": "[encoded data removed]",
      "text/plain": [
       "<Figure size 1440x360 with 7 Axes>"
      ]
     },
     "metadata": {
      "needs_background": "light"
     },
     "output_type": "display_data"
    }
   ],
   "source": [
    "def r_mue(ce_fit, dio_fit, ce_fit_err, dio_fit_err, true_dio, true_dio_reco):\n",
    "    R_mue = ce_fit/(f_cap/f_dio*dio_fit/f_dio_start)*true_dio_reco/true_dio\n",
    "    R_mue_err = ratio_err(ce_fit, dio_fit, ce_fit_err, dio_fit_err) * (1/(f_cap/f_dio*1/f_dio_start)*true_dio_reco/true_dio)\n",
    "    \n",
    "    return R_mue, R_mue_err\n",
    "\n",
    "\n",
    "fig, axs = plt.subplots(1,7, figsize=(20,5))\n",
    " \n",
    "for i, ce in enumerate(ces):\n",
    "    ax = axs[i]\n",
    "    R_mue_true, R_mue_true_err = r_mue(true_ces_cuts_reco[i], true_dios_cuts_reco[i], np.sqrt(np.asarray(true_ces_cuts_reco[i])), np.sqrt(np.asarray(true_dios_cuts_reco[i])), true_dios[i], true_dios_reco[i])\n",
    "    R_mue, R_mue_err = r_mue(ce, dios[i], ces_error[i], dios_error[i], true_dios[i], true_dios_reco[i])\n",
    "\n",
    "    ax.bar(1, height=R_mue_true, lw=1.5, fill=False, label=\"Monte Carlo\", width=1, edgecolor='tab:blue')\n",
    "    ax.fill_between([0.5, 1.5], R_mue_true-R_mue_true_err, R_mue_true+R_mue_true_err, color='tab:blue', alpha=0.2)\n",
    "    ax.errorbar(1, R_mue, yerr=[R_mue_err], fmt='ko', label=\"Fit\")\n",
    "    ax.hlines(r_mues[i], 0, 2, ls='dashed', label=r\"Run %i $R_{\\mu e}$\" % (i+1))\n",
    "    ax.set_ylim(R_mue*0.1, max(R_mue+R_mue_err, R_mue_true+R_mue_true_err)*1.5)\n",
    "    ax.set_xlim(0, 2)\n",
    "    ax.get_xaxis().set_visible(False)\n",
    "    ax.yaxis.tick_right()\n",
    "    ax.yaxis.set_label_position(\"right\")\n",
    "    ax.legend(frameon=False)\n",
    "    \n",
    "fig.tight_layout()"
   ]
  }
 ],
 "metadata": {
  "kernelspec": {
   "display_name": "Python 3",
   "language": "python",
   "name": "python3"
  },
  "language_info": {
   "codemirror_mode": {
    "name": "ipython",
    "version": 3
   },
   "file_extension": ".py",
   "mimetype": "text/x-python",
   "name": "python",
   "nbconvert_exporter": "python",
   "pygments_lexer": "ipython3",
   "version": "3.7.7"
  }
 },
 "nbformat": 4,
 "nbformat_minor": 4
}
