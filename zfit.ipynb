{
 "cells": [
  {
   "cell_type": "code",
   "execution_count": 1,
   "metadata": {
    "colab": {
     "base_uri": "https://localhost:8080/",
     "height": 1000
    },
    "colab_type": "code",
    "executionInfo": {
     "elapsed": 143479,
     "status": "ok",
     "timestamp": 1583971916946,
     "user": {
      "displayName": "Stefano Roberto Soleti",
      "photoUrl": "https://lh3.googleusercontent.com/a-/AOh14Gi_tr40ZiyIRGD12zupKUvpsx9OKLhunj4IkXHENA=s64",
      "userId": "10372352518008961760"
     },
     "user_tz": 420
    },
    "id": "hE1emb8tERY_",
    "outputId": "dd964dad-c51a-4287-eece-c02c4054207c"
   },
   "outputs": [],
   "source": [
    "# !pip install git+https://github.com/zfit/zfit  \n",
    "# !pip install git+https://github.com/zfit/zfit-physics\n",
    "# !pip install particle\n",
    "# !pip install uproot\n",
    "# !pip install mendeleev\n",
    "# !pip install wurlitzer"
   ]
  },
  {
   "cell_type": "code",
   "execution_count": 10,
   "metadata": {
    "colab": {},
    "colab_type": "code",
    "id": "DngrrXb_Edza"
   },
   "outputs": [
    {
     "name": "stdout",
     "output_type": "stream",
     "text": [
      "The wurlitzer extension is already loaded. To reload it, use:\n",
      "  %reload_ext wurlitzer\n"
     ]
    }
   ],
   "source": [
    "%load_ext wurlitzer"
   ]
  },
  {
   "cell_type": "code",
   "execution_count": 11,
   "metadata": {
    "colab": {
     "base_uri": "https://localhost:8080/",
     "height": 34
    },
    "colab_type": "code",
    "executionInfo": {
     "elapsed": 690,
     "status": "ok",
     "timestamp": 1583972200760,
     "user": {
      "displayName": "Stefano Roberto Soleti",
      "photoUrl": "https://lh3.googleusercontent.com/a-/AOh14Gi_tr40ZiyIRGD12zupKUvpsx9OKLhunj4IkXHENA=s64",
      "userId": "10372352518008961760"
     },
     "user_tz": 420
    },
    "id": "maj0ZVlGFIub",
    "outputId": "3f1bd1ef-ec95-41b3-e38a-4481533fd597"
   },
   "outputs": [],
   "source": [
    "# This allows you to run on Colaboratory and load files from your Google Drive\n",
    "try:\n",
    "    from google.colab import drive\n",
    "    drive.mount(\"/content/drive\")\n",
    "    main_path = '/content/drive/My Drive/mu2e/mdc2018/'\n",
    "except:\n",
    "    import os\n",
    "    main_path = os.getcwd()+\"/\""
   ]
  },
  {
   "cell_type": "code",
   "execution_count": 12,
   "metadata": {
    "colab": {},
    "colab_type": "code",
    "id": "BnrkF-W3ERZF"
   },
   "outputs": [],
   "source": [
    "import tensorflow as tf\n",
    "import numpy as np\n",
    "import scipy.stats\n",
    "import zfit_physics as zphys\n",
    "\n",
    "import zfit\n",
    "from zfit import z\n",
    "from particle import Particle\n",
    "from scipy.constants import alpha\n",
    "from mendeleev import Al\n",
    "from math import pi, log\n",
    "import uproot\n",
    "import matplotlib.pyplot as plt\n",
    "import matplotlib.gridspec as gridspec\n",
    "import pickle"
   ]
  },
  {
   "cell_type": "code",
   "execution_count": 13,
   "metadata": {
    "colab": {},
    "colab_type": "code",
    "id": "6g-0OrZqERZ-"
   },
   "outputs": [],
   "source": [
    "def default_flatname(branchname, fieldname, index):\n",
    "    out = branchname.replace(\".\", \"_\")\n",
    "    if not isinstance(branchname, str):\n",
    "        out = branchname.decode(\"utf-8\")\n",
    "    if fieldname is not None:\n",
    "        fieldname.replace(\".\", \"_\")\n",
    "        out += \"_\" + fieldname\n",
    "    if index != ():\n",
    "        out += \"[\" + \"][\".join(str(x) for x in index) + \"]\"\n",
    "    return out\n",
    "\n",
    "def poisson_err(x):\n",
    "    # From http://www.pp.rhul.ac.uk/~cowan/atlas/ErrorBars.pdf\n",
    "    upper = 0.5*scipy.stats.chi2.ppf(1-0.158655, 2*(x+1))\n",
    "    lower = 0.5*scipy.stats.chi2.ppf(0.158655, 2*x)\n",
    "    return x-lower, upper-x\n",
    "\n",
    "def bin_centers(bins):\n",
    "    bin_w = (max(bins) - min(bins)) / (len(bins) - 1)\n",
    "    bin_c = np.array([b+bin_w/2. for b in bins[:-1]])\n",
    "    return bin_c, bin_w\n",
    "\n",
    "df_eminus = pickle.load( open( main_path+\"df.pickle\", \"rb\" ) )"
   ]
  },
  {
   "cell_type": "code",
   "execution_count": 14,
   "metadata": {
    "colab": {
     "base_uri": "https://localhost:8080/",
     "height": 54
    },
    "colab_type": "code",
    "executionInfo": {
     "elapsed": 8013,
     "status": "ok",
     "timestamp": 1583972245163,
     "user": {
      "displayName": "Stefano Roberto Soleti",
      "photoUrl": "https://lh3.googleusercontent.com/a-/AOh14Gi_tr40ZiyIRGD12zupKUvpsx9OKLhunj4IkXHENA=s64",
      "userId": "10372352518008961760"
     },
     "user_tz": 420
    },
    "id": "wUsvNXsTERaB",
    "outputId": "4ac43d28-bfd1-4f13-be07-35cde7117717"
   },
   "outputs": [],
   "source": [
    "obs = zfit.Space('x', limits=(-15, 15))\n",
    "mu_true = 0\n",
    "sigma_true = 1\n",
    "\n",
    "data_res = df_eminus['res'].to_numpy()\n",
    "data = zfit.data.Data.from_numpy(obs=obs, array=data_res)"
   ]
  },
  {
   "cell_type": "code",
   "execution_count": 15,
   "metadata": {
    "colab": {},
    "colab_type": "code",
    "id": "rd3mMescERaG"
   },
   "outputs": [
    {
     "ename": "NameAlreadyTakenError",
     "evalue": "Another parameter is already named mu. Use a different, unique one.",
     "output_type": "error",
     "traceback": [
      "\u001b[0;31m---------------------------------------------------------------------------\u001b[0m",
      "\u001b[0;31mNameAlreadyTakenError\u001b[0m                     Traceback (most recent call last)",
      "\u001b[0;32m<ipython-input-15-0da6f0b42cb8>\u001b[0m in \u001b[0;36m<module>\u001b[0;34m\u001b[0m\n\u001b[0;32m----> 1\u001b[0;31m \u001b[0mmu\u001b[0m \u001b[0;34m=\u001b[0m \u001b[0mzfit\u001b[0m\u001b[0;34m.\u001b[0m\u001b[0mParameter\u001b[0m\u001b[0;34m(\u001b[0m\u001b[0;34m\"mu\"\u001b[0m\u001b[0;34m,\u001b[0m \u001b[0;36m0\u001b[0m\u001b[0;34m,\u001b[0m \u001b[0;34m-\u001b[0m\u001b[0;36m1.\u001b[0m\u001b[0;34m,\u001b[0m \u001b[0;36m1\u001b[0m\u001b[0;34m)\u001b[0m\u001b[0;34m\u001b[0m\u001b[0;34m\u001b[0m\u001b[0m\n\u001b[0m\u001b[1;32m      2\u001b[0m \u001b[0msigma\u001b[0m \u001b[0;34m=\u001b[0m \u001b[0mzfit\u001b[0m\u001b[0;34m.\u001b[0m\u001b[0mParameter\u001b[0m\u001b[0;34m(\u001b[0m\u001b[0;34m\"sigma\"\u001b[0m\u001b[0;34m,\u001b[0m \u001b[0;36m1.3\u001b[0m\u001b[0;34m,\u001b[0m \u001b[0;36m0\u001b[0m\u001b[0;34m,\u001b[0m \u001b[0;36m5.\u001b[0m\u001b[0;34m)\u001b[0m\u001b[0;34m\u001b[0m\u001b[0;34m\u001b[0m\u001b[0m\n\u001b[1;32m      3\u001b[0m \u001b[0malphal\u001b[0m \u001b[0;34m=\u001b[0m \u001b[0mzfit\u001b[0m\u001b[0;34m.\u001b[0m\u001b[0mParameter\u001b[0m\u001b[0;34m(\u001b[0m\u001b[0;34m\"alphal\"\u001b[0m\u001b[0;34m,\u001b[0m \u001b[0;36m1\u001b[0m\u001b[0;34m,\u001b[0m \u001b[0;36m0\u001b[0m\u001b[0;34m,\u001b[0m \u001b[0;36m5\u001b[0m\u001b[0;34m)\u001b[0m\u001b[0;34m\u001b[0m\u001b[0;34m\u001b[0m\u001b[0m\n\u001b[1;32m      4\u001b[0m \u001b[0malphar\u001b[0m \u001b[0;34m=\u001b[0m \u001b[0mzfit\u001b[0m\u001b[0;34m.\u001b[0m\u001b[0mParameter\u001b[0m\u001b[0;34m(\u001b[0m\u001b[0;34m\"alphar\"\u001b[0m\u001b[0;34m,\u001b[0m \u001b[0;36m1\u001b[0m\u001b[0;34m,\u001b[0m \u001b[0;36m0\u001b[0m\u001b[0;34m,\u001b[0m \u001b[0;36m5\u001b[0m\u001b[0;34m)\u001b[0m\u001b[0;34m\u001b[0m\u001b[0;34m\u001b[0m\u001b[0m\n\u001b[1;32m      5\u001b[0m \u001b[0mnr\u001b[0m \u001b[0;34m=\u001b[0m \u001b[0mzfit\u001b[0m\u001b[0;34m.\u001b[0m\u001b[0mParameter\u001b[0m\u001b[0;34m(\u001b[0m\u001b[0;34m\"nr\"\u001b[0m\u001b[0;34m,\u001b[0m \u001b[0;36m5\u001b[0m\u001b[0;34m,\u001b[0m \u001b[0;36m0\u001b[0m\u001b[0;34m,\u001b[0m \u001b[0;36m50\u001b[0m\u001b[0;34m)\u001b[0m\u001b[0;34m\u001b[0m\u001b[0;34m\u001b[0m\u001b[0m\n",
      "\u001b[0;32m/usr/local/lib/python3.7/site-packages/tensorflow_core/python/ops/variables.py\u001b[0m in \u001b[0;36m__call__\u001b[0;34m(cls, *args, **kwargs)\u001b[0m\n\u001b[1;32m    260\u001b[0m       \u001b[0;32mreturn\u001b[0m \u001b[0mcls\u001b[0m\u001b[0;34m.\u001b[0m\u001b[0m_variable_v2_call\u001b[0m\u001b[0;34m(\u001b[0m\u001b[0;34m*\u001b[0m\u001b[0margs\u001b[0m\u001b[0;34m,\u001b[0m \u001b[0;34m**\u001b[0m\u001b[0mkwargs\u001b[0m\u001b[0;34m)\u001b[0m\u001b[0;34m\u001b[0m\u001b[0;34m\u001b[0m\u001b[0m\n\u001b[1;32m    261\u001b[0m     \u001b[0;32melse\u001b[0m\u001b[0;34m:\u001b[0m\u001b[0;34m\u001b[0m\u001b[0;34m\u001b[0m\u001b[0m\n\u001b[0;32m--> 262\u001b[0;31m       \u001b[0;32mreturn\u001b[0m \u001b[0msuper\u001b[0m\u001b[0;34m(\u001b[0m\u001b[0mVariableMetaclass\u001b[0m\u001b[0;34m,\u001b[0m \u001b[0mcls\u001b[0m\u001b[0;34m)\u001b[0m\u001b[0;34m.\u001b[0m\u001b[0m__call__\u001b[0m\u001b[0;34m(\u001b[0m\u001b[0;34m*\u001b[0m\u001b[0margs\u001b[0m\u001b[0;34m,\u001b[0m \u001b[0;34m**\u001b[0m\u001b[0mkwargs\u001b[0m\u001b[0;34m)\u001b[0m\u001b[0;34m\u001b[0m\u001b[0;34m\u001b[0m\u001b[0m\n\u001b[0m\u001b[1;32m    263\u001b[0m \u001b[0;34m\u001b[0m\u001b[0m\n\u001b[1;32m    264\u001b[0m \u001b[0;34m\u001b[0m\u001b[0m\n",
      "\u001b[0;32m/usr/local/lib/python3.7/site-packages/zfit/core/parameter.py\u001b[0m in \u001b[0;36m__init__\u001b[0;34m(self, name, value, lower_limit, upper_limit, step_size, floating, dtype, **kwargs)\u001b[0m\n\u001b[1;32m    328\u001b[0m \u001b[0;34m\u001b[0m\u001b[0m\n\u001b[1;32m    329\u001b[0m         super().__init__(initial_value=value, dtype=dtype, name=name, constraint=constraint,\n\u001b[0;32m--> 330\u001b[0;31m                          params={}, **kwargs)\n\u001b[0m\u001b[1;32m    331\u001b[0m         \u001b[0mself\u001b[0m\u001b[0;34m.\u001b[0m\u001b[0m_true_name\u001b[0m \u001b[0;34m=\u001b[0m \u001b[0mname\u001b[0m\u001b[0;34m\u001b[0m\u001b[0;34m\u001b[0m\u001b[0m\n\u001b[1;32m    332\u001b[0m \u001b[0;34m\u001b[0m\u001b[0m\n",
      "\u001b[0;32m/usr/local/lib/python3.7/site-packages/zfit/core/parameter.py\u001b[0m in \u001b[0;36m__init__\u001b[0;34m(self, name, **kwargs)\u001b[0m\n\u001b[1;32m    226\u001b[0m         \u001b[0;32mif\u001b[0m \u001b[0mname\u001b[0m \u001b[0;32min\u001b[0m \u001b[0mself\u001b[0m\u001b[0;34m.\u001b[0m\u001b[0m_existing_names\u001b[0m\u001b[0;34m:\u001b[0m\u001b[0;34m\u001b[0m\u001b[0;34m\u001b[0m\u001b[0m\n\u001b[1;32m    227\u001b[0m             raise NameAlreadyTakenError(\"Another parameter is already named {}. \"\n\u001b[0;32m--> 228\u001b[0;31m                                         \"Use a different, unique one.\".format(name))\n\u001b[0m\u001b[1;32m    229\u001b[0m         \u001b[0mself\u001b[0m\u001b[0;34m.\u001b[0m\u001b[0m_existing_names\u001b[0m\u001b[0;34m.\u001b[0m\u001b[0mupdate\u001b[0m\u001b[0;34m(\u001b[0m\u001b[0;34m{\u001b[0m\u001b[0mname\u001b[0m\u001b[0;34m:\u001b[0m \u001b[0mself\u001b[0m\u001b[0;34m}\u001b[0m\u001b[0;34m)\u001b[0m\u001b[0;34m\u001b[0m\u001b[0;34m\u001b[0m\u001b[0m\n\u001b[1;32m    230\u001b[0m         \u001b[0mself\u001b[0m\u001b[0;34m.\u001b[0m\u001b[0m_name\u001b[0m \u001b[0;34m=\u001b[0m \u001b[0mname\u001b[0m\u001b[0;34m\u001b[0m\u001b[0;34m\u001b[0m\u001b[0m\n",
      "\u001b[0;31mNameAlreadyTakenError\u001b[0m: Another parameter is already named mu. Use a different, unique one."
     ]
    }
   ],
   "source": [
    "mu = zfit.Parameter(\"mu\", 0, -1., 1)\n",
    "sigma = zfit.Parameter(\"sigma\", 1.3, 0, 5.)\n",
    "alphal = zfit.Parameter(\"alphal\", 1, 0, 5)\n",
    "alphar = zfit.Parameter(\"alphar\", 1, 0, 5)\n",
    "nr = zfit.Parameter(\"nr\", 5, 0, 50)\n",
    "nl = zfit.Parameter(\"nl\", 20, 0, 5)\n",
    "yieldCE = zfit.Parameter(\"yieldCE\", 50, 0, 1000)\n",
    "yieldDIO = zfit.Parameter(\"yieldDIO\", 5000, 0, 100000)"
   ]
  },
  {
   "cell_type": "code",
   "execution_count": 16,
   "metadata": {
    "colab": {},
    "colab_type": "code",
    "id": "qApMUwgnERaJ"
   },
   "outputs": [],
   "source": [
    "dscb = zfit.models.physics.DoubleCB(obs=obs, mu=mu, sigma=sigma,alphal=alphal, nl=nl, alphar=alphar, nr=nr)"
   ]
  },
  {
   "cell_type": "code",
   "execution_count": 17,
   "metadata": {
    "colab": {
     "base_uri": "https://localhost:8080/",
     "height": 139
    },
    "colab_type": "code",
    "id": "oK70deGjERaM",
    "outputId": "7ccfaeb8-14eb-4285-cd67-b2d2fec28699"
   },
   "outputs": [
    {
     "name": "stdout",
     "output_type": "stream",
     "text": [
      "------------------------------------------------------------------\n",
      "| FCN = 3.06E+04                |     Ncalls=264 (264 total)     |\n",
      "| EDM = 6.89E-05 (Goal: 5E-05)  |            up = 0.5            |\n",
      "------------------------------------------------------------------\n",
      "|  Valid Min.   | Valid Param.  | Above EDM | Reached call limit |\n",
      "------------------------------------------------------------------\n",
      "|     True      |     True      |   False   |       False        |\n",
      "------------------------------------------------------------------\n",
      "| Hesse failed  |   Has cov.    | Accurate  | Pos. def. | Forced |\n",
      "------------------------------------------------------------------\n",
      "|     False     |     True      |   True    |   True    | False  |\n",
      "------------------------------------------------------------------\n"
     ]
    }
   ],
   "source": [
    "nll = zfit.loss.UnbinnedNLL(model=dscb, data=data, fit_range=(-10,10))  # loss\n",
    "minimizer = zfit.minimize.Minuit()\n",
    "minimum = minimizer.minimize(loss=nll)\n",
    "params = minimum.params"
   ]
  },
  {
   "cell_type": "code",
   "execution_count": 18,
   "metadata": {
    "colab": {},
    "colab_type": "code",
    "id": "Lm_11qM4ERaO",
    "outputId": "d5d63192-d3a7-4f7f-9a75-81d1b7fae35b"
   },
   "outputs": [
    {
     "data": {
      "text/plain": [
       "(-10, 10)"
      ]
     },
     "execution_count": 18,
     "metadata": {},
     "output_type": "execute_result"
    },
    {
     "data": {
      "image/png": "[encoded data removed]",
      "text/plain": [
       "<Figure size 432x288 with 1 Axes>"
      ]
     },
     "metadata": {
      "needs_background": "light"
     },
     "output_type": "display_data"
    }
   ],
   "source": [
    "n_bins = 50\n",
    "range_ = (-10,10)\n",
    "\n",
    "data_hist, res_bins = np.histogram(data_res, bins=n_bins, range=range_)\n",
    "bin_c, bin_w = bin_centers(res_bins)\n",
    "_ = plt.errorbar(bin_c, data_hist, yerr=poisson_err(data_hist), fmt='none', color='k')\n",
    "_ = plt.step(bin_c, data_hist, color='k', where='mid')\n",
    "\n",
    "x = np.linspace(*range_, num=10000)\n",
    "with dscb.set_norm_range(range_):\n",
    "    pdf = zfit.run(dscb.pdf(x))\n",
    "    \n",
    "_ = plt.plot(x, data_res.shape[0] / n_bins * (range_[1] - range_[0]) * pdf, lw=2, color='r')\n",
    "\n",
    "plt.yscale('log')\n",
    "plt.xlabel(r\"$p_{reco}-p_{true}$ [MeV/c]\")\n",
    "plt.ylabel(r\"N. entries / %g MeV/c\" % bin_w)\n",
    "\n",
    "plt.ylim(bottom=0.5)\n",
    "plt.xlim(range_)\n"
   ]
  },
  {
   "cell_type": "code",
   "execution_count": 19,
   "metadata": {
    "colab": {},
    "colab_type": "code",
    "id": "h26um77mERaR"
   },
   "outputs": [],
   "source": [
    "mu.floating = False\n",
    "sigma.floating = False\n",
    "alphal.floating = False\n",
    "alphar.floating = False\n",
    "nr.floating = False\n",
    "nl.floating = False"
   ]
  },
  {
   "cell_type": "code",
   "execution_count": 20,
   "metadata": {
    "colab": {},
    "colab_type": "code",
    "id": "iH-CbYIeERaU"
   },
   "outputs": [],
   "source": [
    "cuts = [\n",
    "    \"de_status > 0\",\n",
    "    \"de_t0 > 700\",\n",
    "    \"de_t0 < 1695\",\n",
    "    \"deent_td > 0.577350\",\n",
    "    \"deent_td < 1.000\",\n",
    "    \"deent_d0 < 105\",\n",
    "    \"-deent_d0 < 80\",\n",
    "    \"(deent_d0 + 2./deent_om) > 450\",\n",
    "    \"(deent_d0 + 2./deent_om) < 680\",\n",
    "    \"dequal_TrkQual > 0.8\",\n",
    "    \"dequal_TrkPID > 0.95\",\n",
    "    \"ue_status <= 0\",\n",
    "    \"deent_mom > 93\",\n",
    "    \"(bestcrv < 0 | ((-de_t0 + crvinfo__timeWindowStart_best) > 50 | (de_t0-crvinfo__timeWindowStart_best) > 150.0))\",\n",
    "#     \"is_triggered\"\n",
    "]\n",
    "\n",
    "cut = \" & \".join(cuts)"
   ]
  },
  {
   "cell_type": "code",
   "execution_count": 21,
   "metadata": {
    "colab": {},
    "colab_type": "code",
    "id": "9CA8dmEmERaX"
   },
   "outputs": [],
   "source": [
    "file_eminus = uproot.open(\"/Users/soleti/trkana-flateminus-mix-cat.MDC2018h.root\")\n",
    "eminus = file_eminus[\"TrkAnaNeg\"][\"trkana\"]\n",
    "n = 1000000\n",
    "factor = n/3411450\n",
    "df_eminus = eminus.pandas.df(flatname=default_flatname, flatten=False, entrystop=n)\n",
    "df_eminus[\"demcgen_mom\"] = np.sqrt(df_eminus[\"demcgen_momx\"]**2+df_eminus[\"demcgen_momy\"]**2+df_eminus[\"demcgen_momz\"]**2)\n",
    "df_eminus[\"is_triggered\"] = (df_eminus[\"trigbits\"].values & 0x208) > 0\n",
    "df_eminus[\"crvinfo__timeWindowStart_best\"] = [twstart[index] if index>=0 else 0 for index, twstart in zip(df_eminus[\"bestcrv\"], df_eminus[\"crvinfo__timeWindowStart\"])]\n",
    "df_eminus[\"res\"] = df_eminus[\"deent_mom\"] - np.sqrt(df_eminus[\"demc_omomx\"]**2+df_eminus[\"demc_omomy\"]**2+df_eminus[\"demc_omomz\"]**2)\n",
    "df_eminus = df_eminus.query(cut)"
   ]
  },
  {
   "cell_type": "code",
   "execution_count": 22,
   "metadata": {
    "colab": {},
    "colab_type": "code",
    "id": "naHP2UlnERaa",
    "outputId": "86e97dbb-3029-419f-cea6-67ab614e3216"
   },
   "outputs": [
    {
     "data": {
      "image/png": "[encoded data removed]",
      "text/plain": [
       "<Figure size 432x288 with 1 Axes>"
      ]
     },
     "metadata": {
      "needs_background": "light"
     },
     "output_type": "display_data"
    }
   ],
   "source": [
    "n_bins = 140\n",
    "range_ = (75,110)\n",
    "total_electrons = file_eminus[\"genCountLogger\"][\"numEvents\"].values[0]*factor\n",
    "n_cuts, eff_bins = np.histogram(df_eminus[\"demcgen_mom\"], range=range_, bins=n_bins)\n",
    "efficiency = n_cuts/(total_electrons/n_bins)\n",
    "efficiency_err = 1/(total_electrons/n_bins)*np.sqrt(n_cuts*(1-n_cuts/(total_electrons/n_bins)))\n",
    "\n",
    "plt.step(bin_centers(eff_bins)[0], efficiency, where='mid')\n",
    "plt.fill_between(bin_centers(eff_bins)[0], efficiency-efficiency_err, efficiency+efficiency_err, alpha=0.3, step='mid')\n",
    "\n",
    "plt.xlim(range_)\n",
    "plt.ylim(bottom=0)\n",
    "plt.xlabel(\"$p_{true}$ [MeV/c]\")\n",
    "plt.ylabel(\"Efficiency\")\n",
    "\n",
    "efficiency = np.insert(efficiency, 0, 0, axis=0)\n",
    "efficiency = np.insert(efficiency, len(efficiency), 0, axis=0)"
   ]
  },
  {
   "cell_type": "code",
   "execution_count": 23,
   "metadata": {
    "colab": {},
    "colab_type": "code",
    "id": "siTgjuqvERac"
   },
   "outputs": [],
   "source": [
    "obs_spectrum = zfit.Space('x', limits=(93,110))\n",
    "zfit.settings.options['numerical_grad'] = True\n",
    "\n",
    "class BinnedEfficiencyFunc(zfit.func.ZFunc):\n",
    "    _PARAMS = []\n",
    "\n",
    "    def __init__(self, efficiency, eff_bins, obs, name='BinnedEfficiencyFunc'):\n",
    "        self.efficiency = efficiency\n",
    "        self.eff_bins = eff_bins\n",
    "        super().__init__(obs=obs, name=name)\n",
    "        \n",
    "    def _binContent(self, x):\n",
    "        eff_bin = np.digitize(x, self.eff_bins)\n",
    "        return self.efficiency[eff_bin]\n",
    "   \n",
    "    def _func(self, x):\n",
    "        x = zfit.ztf.unstack_x(x)\n",
    "        probs = z.py_function(func=self._binContent, inp=[x], Tout=tf.float64)\n",
    "        probs.set_shape(x.shape)\n",
    "        return probs"
   ]
  },
  {
   "cell_type": "code",
   "execution_count": 24,
   "metadata": {
    "colab": {},
    "colab_type": "code",
    "id": "QroLzzQUERaf"
   },
   "outputs": [],
   "source": [
    "muon = Particle.from_pdgid(13)\n",
    "proton = Particle.from_pdgid(2212)\n",
    "electron = Particle.from_pdgid(11)\n",
    "\n",
    "bound_energy = Al.atomic_number**2 * alpha**2 * muon.mass / 2\n",
    "recoil_energy = muon.mass**2/(2 * Al.mass * proton.mass)\n",
    "eMax = muon.mass - bound_energy - recoil_energy\n",
    "\n",
    "\n",
    "class CESpectrumPDF(zfit.pdf.ZPDF):\n",
    "    _PARAMS = []  # the name of the parameters\n",
    "\n",
    "    def _unnormalized_pdf(self, x): \n",
    "        x = zfit.ztf.unstack_x(x)\n",
    "        \n",
    "        me = zfit.ztf.constant(electron.mass)\n",
    "        eMax = zfit.ztf.constant(muon.mass - bound_energy - recoil_energy)\n",
    "        alpha_c = zfit.ztf.constant(alpha)\n",
    "        pi_c = zfit.ztf.constant(pi)\n",
    "        \n",
    "        E = zfit.ztf.sqrt(x * x + me * me)\n",
    "        result = (1. / eMax) * (alpha_c / (2 * pi_c)) * (zfit.ztf.log(4 * E * E / me / me) - 2.) * ((E * E + eMax * eMax) / eMax / (eMax - E))\n",
    "        \n",
    "        return tf.maximum(result, tf.zeros_like(result))\n",
    "    \n",
    "    \n",
    "class DIOSpectrumPDF(zfit.pdf.ZPDF):\n",
    "    _PARAMS = []\n",
    "    \n",
    "    def _unnormalized_pdf(self, x):\n",
    "        # NLO PDF from https://mu2e-docdb.fnal.gov/cgi-bin/private/RetrieveFile?docid=6309&filename=formu2e.pdf&version=1\n",
    "        x = z.unstack_x(x)\n",
    "        \n",
    "        c5 = z.constant(8.9e-17)\n",
    "        c6 = z.constant(1.17169e-17)\n",
    "        c7 = z.constant(-1.06599e-19)\n",
    "        c8 = z.constant(8.14251e-20)\n",
    "        \n",
    "        me = z.constant(electron.mass)\n",
    "        eMax = z.constant(muon.mass - bound_energy - recoil_energy)\n",
    "\n",
    "        x = z.sqrt(x * x + me * me)\n",
    "        deltax = eMax - x\n",
    "    \n",
    "        f = 2*z.log(muon.mass/electron.mass * (1-deltax/muon.mass)) - 2 + 2*log(2)\n",
    "        expo = alpha/pi*f\n",
    "\n",
    "        const = z.pow(deltax/muon.mass, expo)\n",
    "\n",
    "        result = const * (c5 * deltax**5 + c6 * deltax**6 + c7 * deltax**7 + c8 * deltax**8)\n",
    "        \n",
    "        muon_energy = muon.mass - bound_energy\n",
    "        end_point = z.constant(muon_energy - recoil_energy)\n",
    "        \n",
    "        cond = tf.less(x, end_point)        \n",
    "        func = tf.where(cond,\n",
    "                        result,\n",
    "                        tf.zeros_like(result))\n",
    "        \n",
    "        probs = tf.maximum(func, tf.zeros_like(func))\n",
    "        probs.set_shape(x.shape)\n",
    "        \n",
    "        return probs\n",
    "    "
   ]
  },
  {
   "cell_type": "code",
   "execution_count": 25,
   "metadata": {
    "colab": {},
    "colab_type": "code",
    "id": "fU0Gh7VKERai",
    "outputId": "1c6eb5ea-4289-4abe-ffdb-c486ea1b4530"
   },
   "outputs": [
    {
     "data": {
      "text/plain": [
       "<zfit.util.temporary.TemporarilySet at 0x32ff83990>"
      ]
     },
     "execution_count": 25,
     "metadata": {},
     "output_type": "execute_result"
    }
   ],
   "source": [
    "efficiencyFunc = BinnedEfficiencyFunc(efficiency, eff_bins, obs_spectrum)\n",
    "efficiencyPDF = efficiencyFunc.as_pdf()\n",
    "efficiencyPDF.set_norm_range(obs_spectrum)\n",
    "\n",
    "ce = CESpectrumPDF(obs=obs_spectrum)\n",
    "dio = DIOSpectrumPDF(obs=obs_spectrum)\n",
    "\n",
    "dio_eff = dio*efficiencyPDF\n",
    "ce_eff = ce*efficiencyPDF\n",
    "\n",
    "ce_convoluted = zphys.unstable.pdf.NumConvPDFUnbinnedV1(obs=obs_spectrum, func=ce_eff, kernel=dscb, limits=obs_spectrum, ndraws=1000)\n",
    "dio_convoluted = zphys.unstable.pdf.NumConvPDFUnbinnedV1(obs=obs_spectrum, func=dio_eff, kernel=dscb, limits=obs_spectrum, ndraws=1000)\n",
    "\n",
    "ce_convoluted._set_yield(yieldCE)\n",
    "dio_convoluted._set_yield(yieldDIO)\n",
    "\n",
    "dio_convoluted.set_norm_range(obs_spectrum)\n",
    "ce_convoluted.set_norm_range(obs_spectrum)\n",
    "\n",
    "spectrum = zfit.pdf.SumPDF(obs=obs_spectrum, pdfs=[ce_convoluted, dio_convoluted])\n",
    "spectrum.set_norm_range(obs_spectrum)"
   ]
  },
  {
   "cell_type": "code",
   "execution_count": 26,
   "metadata": {
    "colab": {},
    "colab_type": "code",
    "id": "AkehxW6IERal"
   },
   "outputs": [],
   "source": [
    "dfs = []\n",
    "\n",
    "true_ces = []\n",
    "true_ces_cuts = []\n",
    "true_dios = []\n",
    "true_dios_reco = []\n",
    "true_dios_cuts = []\n",
    "\n",
    "data_zfit = []\n",
    "\n",
    "run_files = [\"root_files/trkana-ensemble-run5i-MC.root\",\n",
    "             \"root_files/trkana-ensemble-run7i-MC.root\"]\n",
    "\n",
    "start=95\n",
    "\n",
    "for file_name in run_files:\n",
    "    file = uproot.open(file_name)\n",
    "    trkananeg = file[\"TrkAnaNeg\"][\"trkana\"]\n",
    "\n",
    "    df = trkananeg.pandas.df(flatname=default_flatname, flatten=False)\n",
    "    df[\"is_triggered\"] = (df[\"trigbits\"].values & 0x208) > 0\n",
    "    df[\"crvinfo__timeWindowStart_best\"] = [twstart[index] \n",
    "                                           if index>=0 else 0\n",
    "                                           for index, twstart in zip(df[\"bestcrv\"], df[\"crvinfo__timeWindowStart\"])]\n",
    "    df[\"demcgen_mom\"] = np.sqrt(df[\"demcgen_momx\"]**2+df[\"demcgen_momy\"]**2+df[\"demcgen_momz\"]**2)\n",
    "\n",
    "    true_dios.append(len(df.query(\"demcgen_gen == 7 & demcgen_mom >= %g\" % start)))\n",
    "    true_ces.append(len(df.query(\"demcgen_gen == 43 & demcgen_mom >= %g\" % start)))\n",
    "    df_cuts = df.query(cut)\n",
    "    true_dios_reco.append(len(df.query(\"demcgen_gen == 7 & demcgen_mom >= %g & deent_mom >= %g\" % (start,start))))\n",
    "    dfs.append(df_cuts)\n",
    "    true_ce_cuts = len(df_cuts.query(\"demcgen_gen == 43 & demcgen_mom >= %g & deent_mom >= %g\" % (start,start)))\n",
    "    if true_ce_cuts:\n",
    "        true_ces_cuts.append(true_ce_cuts)\n",
    "        true_dios_cuts.append(len(df_cuts.query(\"demcgen_gen == 7 & demcgen_mom >= %g & deent_mom >= %g\" % (start,start))))\n",
    "\n",
    "    data_zfit.append(zfit.data.Data.from_numpy(obs=obs_spectrum, array=df_cuts[\"deent_mom\"].to_numpy()))\n"
   ]
  },
  {
   "cell_type": "code",
   "execution_count": 27,
   "metadata": {
    "colab": {},
    "colab_type": "code",
    "id": "lJuF2_y7ERao",
    "outputId": "0ed06aa8-2cd2-4890-b8d7-c66b59bacaca"
   },
   "outputs": [
    {
     "name": "stdout",
     "output_type": "stream",
     "text": [
      "VariableMetric: start iterating until Edm is < 0.001\n",
      "VariableMetric: Initial state   - FCN =  -71169.03831116 Edm =      2131.29 NCalls =      9\n",
      "VariableMetric: Iteration #   0 - FCN =  -71169.03831116 Edm =      2131.29 NCalls =      9\n",
      "VariableMetric: Iteration #   1 - FCN =  -73737.19315153 Edm =      8.73706 NCalls =     20\n",
      "VariableMetric: Iteration #   2 - FCN =  -73741.38113088 Edm =     0.898303 NCalls =     26\n",
      "VariableMetric: Iteration #   3 - FCN =   -73742.3478224 Edm =   0.00320774 NCalls =     32\n",
      "VariableMetric: Iteration #   4 - FCN =  -73742.35168339 Edm =  3.41434e-06 NCalls =     38\n",
      "VariableMetric: After Hessian   - FCN =  -73742.35168339 Edm =  1.60109e-06 NCalls =     52\n",
      "VariableMetric: Iteration #   5 - FCN =  -73742.35168339 Edm =  1.60109e-06 NCalls =     52\n",
      "------------------------------------------------------------------\n",
      "| FCN = -7.374E+04              |      Ncalls=52 (52 total)      |\n",
      "| EDM = 1.6E-06 (Goal: 5E-05)   |            up = 0.5            |\n",
      "------------------------------------------------------------------\n",
      "|  Valid Min.   | Valid Param.  | Above EDM | Reached call limit |\n",
      "------------------------------------------------------------------\n",
      "|     True      |     True      |   False   |       False        |\n",
      "------------------------------------------------------------------\n",
      "| Hesse failed  |   Has cov.    | Accurate  | Pos. def. | Forced |\n",
      "------------------------------------------------------------------\n",
      "|     False     |     True      |   True    |   True    | False  |\n",
      "------------------------------------------------------------------\n",
      "WARNING:tensorflow:5 out of the last 5 calls to <function BasePDF.pdf at 0x149157320> triggered tf.function retracing. Tracing is expensive and the excessive number of tracings is likely due to passing python objects instead of tensors. Also, tf.function has experimental_relax_shapes=True option that relaxes argument shapes that can avoid unnecessary retracing. Please refer to https://www.tensorflow.org/tutorials/customization/performance#python_or_tensor_args and https://www.tensorflow.org/api_docs/python/tf/function for more details.\n",
      "VariableMetric: start iterating until Edm is < 0.001\n",
      "VariableMetric: Initial state   - FCN =  -72791.15413622 Edm =      31.2803 NCalls =      9\n",
      "VariableMetric: Iteration #   0 - FCN =  -72791.15413622 Edm =      31.2803 NCalls =      9\n",
      "VariableMetric: Iteration #   1 - FCN =   -72838.9333765 Edm =       0.4602 NCalls =     19\n",
      "VariableMetric: Iteration #   2 - FCN =  -72839.44413991 Edm =    0.0100928 NCalls =     25\n",
      "VariableMetric: Iteration #   3 - FCN =  -72839.46047545 Edm =  1.25585e-06 NCalls =     31\n",
      "------------------------------------------------------------------\n",
      "| FCN = -7.284E+04              |      Ncalls=43 (43 total)      |\n",
      "| EDM = 1.36E-06 (Goal: 5E-05)  |            up = 0.5            |\n",
      "------------------------------------------------------------------\n",
      "|  Valid Min.   | Valid Param.  | Above EDM | Reached call limit |\n",
      "------------------------------------------------------------------\n",
      "|     True      |     True      |   False   |       False        |\n",
      "------------------------------------------------------------------\n",
      "| Hesse failed  |   Has cov.    | Accurate  | Pos. def. | Forced |\n",
      "------------------------------------------------------------------\n",
      "|     False     |     True      |   True    |   True    | False  |\n",
      "------------------------------------------------------------------VariableMetric: After Hessian   - FCN =  -72839.46047545 Edm =  1.35684e-06 NCalls =     43\n",
      "VariableMetric: Iteration #   4 - FCN =  -72839.46047545 Edm =  1.35684e-06 NCalls =     43\n",
      "\n"
     ]
    }
   ],
   "source": [
    "minimizer = zfit.minimize.Minuit(verbosity=8, use_minuit_grad=True)\n",
    "\n",
    "def fit(data):\n",
    "    nll = zfit.loss.ExtendedUnbinnedNLL(model=spectrum, data=data)  # loss\n",
    "    minimum = minimizer.minimize(loss=nll)\n",
    "    params = minimum.params    \n",
    "    errors = minimum.hesse()\n",
    "    \n",
    "    return params, errors\n",
    "\n",
    "\n",
    "params_errors = []\n",
    "\n",
    "for data in data_zfit:\n",
    "    params_errors.append(fit(data))\n"
   ]
  },
  {
   "cell_type": "code",
   "execution_count": 28,
   "metadata": {},
   "outputs": [
    {
     "name": "stdout",
     "output_type": "stream",
     "text": [
      "tf.Tensor(0.0010211011227776422, shape=(), dtype=float64)\n",
      "tf.Tensor(0.00586475289366841, shape=(), dtype=float64)\n"
     ]
    }
   ],
   "source": [
    "yieldCE.set_value(params_errors[0][0][yieldCE]['value'])\n",
    "print(spectrum.fracs[0].value())\n",
    "yieldCE.set_value(params_errors[1][0][yieldCE]['value'])\n",
    "print(spectrum.fracs[0].value())\n"
   ]
  },
  {
   "cell_type": "code",
   "execution_count": 29,
   "metadata": {
    "colab": {},
    "colab_type": "code",
    "id": "pRYxLtIbERaq"
   },
   "outputs": [],
   "source": [
    "def ratio_err(num, den, num_err, den_err):\n",
    "    n, d, n_e, d_e = num, den, num_err, den_err\n",
    "    return np.abs(n/d) * np.sqrt((n_e/n)**2+(d_e/d)**2)\n",
    "\n",
    "\n",
    "def residual_err(data, fit, data_err):\n",
    "    # From https://cds.cern.ch/record/2217625/files/final.pdf \n",
    "    err = data_err[1]\n",
    "#     err[data>=fit] = data_err[0][data>=fit]\n",
    "    return err\n",
    "\n",
    "def drawing_values(i):\n",
    "    df = dfs[i]\n",
    "    n_bins = 68\n",
    "    range_ = obs_spectrum.limits[0][0][0], obs_spectrum.limits[1][0][0]\n",
    "    binning = (range_[1]-range_[0])/n_bins\n",
    "\n",
    "    data_hist, bins = np.histogram(\n",
    "                          df['deent_mom'],\n",
    "                          bins=n_bins,\n",
    "                          range=range_)\n",
    "\n",
    "    data_err = np.nan_to_num(poisson_err(data_hist))\n",
    "    bin_w = (max(bins) - min(bins)) / (len(bins) - 1)\n",
    "    bin_centers = np.array([b+bin_w/2. for b in bins[:-1]])\n",
    "\n",
    "    plot_scaling = len(df.query(\"deent_mom>%g\" % range_[0]) ) / n_bins * obs_spectrum.area()\n",
    "\n",
    "    yieldCE.set_value(params_errors[i][0][yieldCE]['value'])\n",
    "    yieldDIO.set_value(params_errors[i][0][yieldDIO]['value'])\n",
    "\n",
    "    frac = spectrum.fracs[0].value()\n",
    "    x = bin_centers\n",
    "    y = spectrum.pdf(x).numpy()  \n",
    "    y_ce = (ce_convoluted.pdf(x) * frac).numpy()\n",
    "    y_dio = (dio_convoluted.pdf(x) * (1 - frac)).numpy()\n",
    "\n",
    "    data_hist_err = np.nan_to_num(poisson_err(data_hist))\n",
    "    \n",
    "    return bin_centers, frac, data_hist, data_hist_err, x, y*plot_scaling, y_ce*plot_scaling, y_dio*plot_scaling, plot_scaling\n",
    "\n",
    "def residuals(data_hist, dat_hist_err, y):\n",
    "    res = data_hist-y\n",
    "    res_err = residual_err(data_hist, y, data_hist_err)\n",
    "    \n",
    "    return res, res_err\n"
   ]
  },
  {
   "cell_type": "code",
   "execution_count": 30,
   "metadata": {
    "colab": {},
    "colab_type": "code",
    "id": "n6MOADFYERat"
   },
   "outputs": [],
   "source": [
    "def y_err(params_error, frac, plot_scaling):\n",
    "    yieldCE_value = params_error[0][yieldCE]['value']\n",
    "    yieldDIO_value = params_error[0][yieldDIO]['value']\n",
    "\n",
    "    y_ce_err = (ce_convoluted.pdf(x)*params_error[1][yieldCE]['error']/yieldCE_value*frac).numpy()\n",
    "    y_dio_err = (dio_convoluted.pdf(x)*params_error[1][yieldDIO]['error']/yieldDIO_value*(1-frac)).numpy()\n",
    "\n",
    "    y_err = (y_ce_err+y_dio_err) * plot_scaling\n",
    "\n",
    "    yieldCE.set_value(yieldCE_value)\n",
    "    yieldDIO.set_value(yieldDIO_value)\n",
    "    \n",
    "    return y_err"
   ]
  },
  {
   "cell_type": "code",
   "execution_count": 31,
   "metadata": {
    "colab": {},
    "colab_type": "code",
    "id": "GK-dqXo1ERav"
   },
   "outputs": [],
   "source": [
    "def draw_plot(ax1, ax2, bin_centers, data_hist, data_hist_err, y, y_dio, y_ce, y_err, res, res_err):\n",
    "    fig, ax = plt.subplots(2,1, gridspec_kw={'height_ratios': [2.5, 1]}, figsize=(9,7))\n",
    "    ax1.errorbar(bin_centers, data_hist, yerr=data_hist_err, fmt='o', color='k')\n",
    "    \n",
    "    x = bin_centers\n",
    "    y = np.hstack(y.numpy())\n",
    "    y_err = np.hstack(y_err.numpy())\n",
    "    \n",
    "    redchi = scipy.stats.chisquare(data_hist[bin_centers>=95], y[bin_centers>=95]).statistic / (len(data_hist)-1)\n",
    "\n",
    "    ax1.plot(x, y, label='Combined fit\\n$\\chi^2$ / n.d.f. = %.2f' % redchi, lw=2, color='r')\n",
    "    ax1.plot(x, y_dio, label='DIO component', linestyle='--')\n",
    "    ax1.plot(x, y_ce, label='CE component', linestyle='--')\n",
    "    ax1.fill_between(x, (y-2*y_err), (y+2*y_err), color='yellow')\n",
    "    ax1.fill_between(x, (y-y_err), (y+y_err), color='lawngreen')\n",
    "\n",
    "    ax1.set_yscale('log')\n",
    "    ax1.set_ylim(bottom=0.5)\n",
    "    ax1.legend(frameon=False)\n",
    "    ax1.set_xlim(95,110)\n",
    "    ax1.set_xticklabels([])\n",
    "    \n",
    "    ax2.set_xlabel(r\"Reco. momentum [MeV/$c$]\", fontsize=12)\n",
    "    ax1.set_ylabel(r\"N. entries / 0.25 MeV/$c$\", fontsize=12)\n",
    "    ax2.errorbar(bin_centers, res/res_err, fmt='o',color='k', yerr=ratio_err(res, res_err, data_hist_err+y_err, 0))\n",
    "    ax2.fill_between(x, 2*y_err/res_err, -2*y_err /res_err, color='yellow')\n",
    "    ax2.fill_between(x, y_err/res_err, -y_err/res_err, color='lawngreen')\n",
    "\n",
    "    ax2.hlines(linestyle='--', xmin=95, xmax=110, y=0)\n",
    "    ax2.set_ylim(-3.5,3.5)\n",
    "    ax2.set_xlim(95,110)"
   ]
  },
  {
   "cell_type": "code",
   "execution_count": 32,
   "metadata": {
    "colab": {},
    "colab_type": "code",
    "id": "-mMti7mdERay",
    "outputId": "1e9350b8-3bb0-476a-87aa-05baa8dd7346"
   },
   "outputs": [
    {
     "name": "stdout",
     "output_type": "stream",
     "text": [
      "WARNING:tensorflow:6 out of the last 6 calls to <function BasePDF.pdf at 0x149157320> triggered tf.function retracing. Tracing is expensive and the excessive number of tracings is likely due to passing python objects instead of tensors. Also, tf.function has experimental_relax_shapes=True option that relaxes argument shapes that can avoid unnecessary retracing. Please refer to https://www.tensorflow.org/tutorials/customization/performance#python_or_tensor_args and https://www.tensorflow.org/api_docs/python/tf/function for more details.\n",
      "WARNING:tensorflow:7 out of the last 7 calls to <function BasePDF.pdf at 0x149157320> triggered tf.function retracing. Tracing is expensive and the excessive number of tracings is likely due to passing python objects instead of tensors. Also, tf.function has experimental_relax_shapes=True option that relaxes argument shapes that can avoid unnecessary retracing. Please refer to https://www.tensorflow.org/tutorials/customization/performance#python_or_tensor_args and https://www.tensorflow.org/api_docs/python/tf/function for more details.\n",
      "WARNING:tensorflow:5 out of the last 5 calls to <function NumConvPDFUnbinnedV1._unnormalized_pdf at 0x149346440> triggered tf.function retracing. Tracing is expensive and the excessive number of tracings is likely due to passing python objects instead of tensors. Also, tf.function has experimental_relax_shapes=True option that relaxes argument shapes that can avoid unnecessary retracing. Please refer to https://www.tensorflow.org/tutorials/customization/performance#python_or_tensor_args and https://www.tensorflow.org/api_docs/python/tf/function for more details.\n",
      "WARNING:tensorflow:6 out of the last 6 calls to <function NumConvPDFUnbinnedV1._unnormalized_pdf at 0x149346440> triggered tf.function retracing. Tracing is expensive and the excessive number of tracings is likely due to passing python objects instead of tensors. Also, tf.function has experimental_relax_shapes=True option that relaxes argument shapes that can avoid unnecessary retracing. Please refer to https://www.tensorflow.org/tutorials/customization/performance#python_or_tensor_args and https://www.tensorflow.org/api_docs/python/tf/function for more details.\n",
      "WARNING:tensorflow:8 out of the last 8 calls to <function BasePDF.pdf at 0x149157320> triggered tf.function retracing. Tracing is expensive and the excessive number of tracings is likely due to passing python objects instead of tensors. Also, tf.function has experimental_relax_shapes=True option that relaxes argument shapes that can avoid unnecessary retracing. Please refer to https://www.tensorflow.org/tutorials/customization/performance#python_or_tensor_args and https://www.tensorflow.org/api_docs/python/tf/function for more details.\n"
     ]
    },
    {
     "data": {
      "image/png": "[encoded data removed]",
      "text/plain": [
       "<Figure size 1008x1440 with 4 Axes>"
      ]
     },
     "metadata": {
      "needs_background": "light"
     },
     "output_type": "display_data"
    },
    {
     "data": {
      "image/png": "[encoded data removed]",
      "text/plain": [
       "<Figure size 648x504 with 2 Axes>"
      ]
     },
     "metadata": {
      "needs_background": "light"
     },
     "output_type": "display_data"
    },
    {
     "data": {
      "image/png": "[encoded data removed]",
      "text/plain": [
       "<Figure size 648x504 with 2 Axes>"
      ]
     },
     "metadata": {
      "needs_background": "light"
     },
     "output_type": "display_data"
    }
   ],
   "source": [
    "fit_results = []\n",
    "fig = plt.figure(figsize=(14,20))\n",
    "\n",
    "gs = gridspec.GridSpec(4,2)\n",
    "\n",
    "i = 0\n",
    "for row in range(4):\n",
    "    for column in range(2):\n",
    "        if i < 2:\n",
    "            gs0 = gs[row,column].subgridspec(2, 1, height_ratios=[2.5,1], hspace=0.1)\n",
    "            ax1 = fig.add_subplot(gs0[0])\n",
    "            ax2 = fig.add_subplot(gs0[1])\n",
    "            bin_centers, frac, data_hist, data_hist_err, x, y, y_ce, y_dio, plot_scaling = drawing_values(i)\n",
    "            res, res_err = residuals(data_hist, data_hist_err, np.hstack(y.numpy()))\n",
    "            y_err_value = y_err(params_errors[i], frac, plot_scaling)\n",
    "            draw_plot(ax1, ax2, bin_centers, data_hist, data_hist_err, y, y_ce, y_dio, y_err_value, res, res_err)\n",
    "        i+=1\n",
    "            \n",
    "fig.tight_layout()\n",
    "fig.savefig(\"plots/spectra.pdf\")"
   ]
  }
 ],
 "metadata": {
  "accelerator": "GPU",
  "colab": {
   "name": "zfit.ipynb",
   "provenance": [],
   "toc_visible": true
  },
  "kernelspec": {
   "display_name": "Python 3",
   "language": "python",
   "name": "python3"
  },
  "language_info": {
   "codemirror_mode": {
    "name": "ipython",
    "version": 3
   },
   "file_extension": ".py",
   "mimetype": "text/x-python",
   "name": "python",
   "nbconvert_exporter": "python",
   "pygments_lexer": "ipython3",
   "version": "3.7.7"
  }
 },
 "nbformat": 4,
 "nbformat_minor": 4
}
