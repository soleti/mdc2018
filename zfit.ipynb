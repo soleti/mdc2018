{
 "cells": [
  {
   "cell_type": "code",
   "execution_count": 1,
   "metadata": {},
   "outputs": [],
   "source": [
    "import numpy as np\n",
    "import tensorflow as tf\n",
    "import scipy.stats\n",
    "import zfit_physics as zphys\n",
    "\n",
    "import zfit\n",
    "from zfit import z\n",
    "from particle import Particle\n",
    "from scipy.constants import alpha\n",
    "from mendeleev import Al\n",
    "from math import pi\n",
    "import uproot\n",
    "import matplotlib.pyplot as plt"
   ]
  },
  {
   "cell_type": "code",
   "execution_count": 2,
   "metadata": {
    "scrolled": false
   },
   "outputs": [],
   "source": [
    "import pickle\n",
    "\n",
    "df_eminus = pickle.load( open( \"df.pickle\", \"rb\" ) )"
   ]
  },
  {
   "cell_type": "code",
   "execution_count": 3,
   "metadata": {},
   "outputs": [],
   "source": [
    "obs = zfit.Space('x', limits=(-10, 10))\n",
    "mu_true = 0\n",
    "sigma_true = 1\n",
    "\n",
    "data_res = df_eminus['res'].to_numpy()\n",
    "data = zfit.data.Data.from_numpy(obs=obs, array=data_res)"
   ]
  },
  {
   "cell_type": "code",
   "execution_count": 4,
   "metadata": {},
   "outputs": [],
   "source": [
    "mu = zfit.Parameter(\"mu\", 0, -1., 1)\n",
    "sigma = zfit.Parameter(\"sigma\", 1.3, 0, 5.)\n",
    "alphal = zfit.Parameter(\"alphal\", 1, 0, 5)\n",
    "alphar = zfit.Parameter(\"alphar\", 1, 0, 5)\n",
    "nr = zfit.Parameter(\"nr\", 5, 0, 50)\n",
    "nl = zfit.Parameter(\"nl\", 20, 0, 5)\n"
   ]
  },
  {
   "cell_type": "code",
   "execution_count": 5,
   "metadata": {},
   "outputs": [],
   "source": [
    "dscb = zfit.models.physics.DoubleCB(obs=obs, mu=mu, sigma=sigma,alphal=alphal, nl=nl, alphar=alphar, nr=nr)"
   ]
  },
  {
   "cell_type": "code",
   "execution_count": 6,
   "metadata": {},
   "outputs": [
    {
     "name": "stdout",
     "output_type": "stream",
     "text": [
      "------------------------------------------------------------------\n",
      "| FCN = 3.06E+04                |     Ncalls=214 (214 total)     |\n",
      "| EDM = 5.52E-05 (Goal: 5E-05)  |            up = 0.5            |\n",
      "------------------------------------------------------------------\n",
      "|  Valid Min.   | Valid Param.  | Above EDM | Reached call limit |\n",
      "------------------------------------------------------------------\n",
      "|     True      |     True      |   False   |       False        |\n",
      "------------------------------------------------------------------\n",
      "| Hesse failed  |   Has cov.    | Accurate  | Pos. def. | Forced |\n",
      "------------------------------------------------------------------\n",
      "|     False     |     True      |   True    |   True    | False  |\n",
      "------------------------------------------------------------------\n"
     ]
    }
   ],
   "source": [
    "# Create the negative log likelihood\n",
    "\n",
    "nll = zfit.loss.UnbinnedNLL(model=dscb, data=data, fit_range=(-10,10))  # loss\n",
    "\n",
    "# Load and instantiate a minimizer\n",
    "minimizer = zfit.minimize.Minuit()\n",
    "minimum = minimizer.minimize(loss=nll)\n",
    "# Get the fitted values, again by run the variable graphs\n",
    "params = minimum.params"
   ]
  },
  {
   "cell_type": "code",
   "execution_count": 7,
   "metadata": {},
   "outputs": [
    {
     "name": "stdout",
     "output_type": "stream",
     "text": [
      "tf.Tensor([6.14973294e-12], shape=(1,), dtype=float64)\n"
     ]
    },
    {
     "data": {
      "image/png": "[encoded data removed]",
      "text/plain": [
       "<Figure size 432x288 with 1 Axes>"
      ]
     },
     "metadata": {
      "needs_background": "light"
     },
     "output_type": "display_data"
    }
   ],
   "source": [
    "n_bins = 50\n",
    "range_ = (-10,10)\n",
    "_ = plt.hist(data_res, bins=n_bins, range=range_, histtype='step', )\n",
    "x = np.linspace(*range_, num=1000)\n",
    "with dscb.set_norm_range(range_):\n",
    "    pdf = zfit.run(dscb.pdf(x))\n",
    "_ = plt.plot(x, data_res.shape[0] / n_bins * (range_[1] - range_[0]) * pdf)\n",
    "\n",
    "plt.yscale('log')\n",
    "plt.ylim(0.5, 100000)\n",
    "print(dscb.pdf(100))"
   ]
  },
  {
   "cell_type": "code",
   "execution_count": 8,
   "metadata": {},
   "outputs": [],
   "source": [
    "mu.floating = False\n",
    "sigma.floating = False\n",
    "alphal.floating = False\n",
    "alphar.floating = False\n",
    "nr.floating = False\n",
    "nl.floating = False"
   ]
  },
  {
   "cell_type": "code",
   "execution_count": 9,
   "metadata": {},
   "outputs": [],
   "source": [
    "total_electrons = 564554.6615075701\n",
    "n_cuts, eff_bins = np.histogram(df_eminus[\"demcgen_mom\"], range=(95,115), bins=80)\n",
    "efficiency = n_cuts/(total_electrons/80)\n",
    "efficiency = np.insert(efficiency, 0, 0, axis=0)\n",
    "efficiency = np.insert(efficiency, len(efficiency), 0, axis=0)"
   ]
  },
  {
   "cell_type": "code",
   "execution_count": 10,
   "metadata": {},
   "outputs": [],
   "source": [
    "obs_spectrum = zfit.Space('x', limits=(95, 115))\n",
    "zfit.settings.options['numerical_grad'] = True\n",
    "\n",
    "class BinnedEfficiencyFunc(zfit.func.ZFunc):\n",
    "    _PARAMS = []\n",
    "\n",
    "    def __init__(self, efficiency, eff_bins, obs, name='BinnedEfficiencyFunc'):\n",
    "        self.efficiency = efficiency\n",
    "        self.eff_bins = eff_bins\n",
    "        super().__init__(obs=obs, name=name)\n",
    "        \n",
    "    def _binContent(self, x):\n",
    "        eff_bin = np.digitize(x, self.eff_bins)\n",
    "        return self.efficiency[eff_bin]\n",
    "   \n",
    "    def _func(self, x):\n",
    "        x = zfit.ztf.unstack_x(x)\n",
    "        probs = z.py_function(func=self._binContent, inp=[x], Tout=tf.float64)\n",
    "        probs.set_shape(x.shape)\n",
    "        return probs"
   ]
  },
  {
   "cell_type": "code",
   "execution_count": 11,
   "metadata": {},
   "outputs": [],
   "source": [
    "muon = Particle.from_pdgid(13)\n",
    "proton = Particle.from_pdgid(2212)\n",
    "electron = Particle.from_pdgid(11)\n",
    "\n",
    "bound_energy = Al.atomic_number**2 * alpha**2 * muon.mass / 2\n",
    "recoil_energy = muon.mass**2/(2 * Al.mass * proton.mass)\n",
    "eMax = muon.mass - bound_energy - recoil_energy\n",
    "\n",
    "class CESpectrumPDF(zfit.pdf.ZPDF):\n",
    "    _PARAMS = []  # the name of the parameters\n",
    "\n",
    "    def _unnormalized_pdf(self, x): \n",
    "        x = zfit.ztf.unstack_x(x)\n",
    "        \n",
    "        me = zfit.ztf.constant(electron.mass)\n",
    "        eMax = zfit.ztf.constant(muon.mass - bound_energy - recoil_energy)\n",
    "        alpha_c = zfit.ztf.constant(alpha)\n",
    "        pi_c = zfit.ztf.constant(pi)\n",
    "        \n",
    "        E = zfit.ztf.sqrt(x * x + me * me)\n",
    "        result = (1. / eMax) * (alpha_c / (2 * pi_c)) * (zfit.ztf.log(4 * E * E / me / me) - 2.) * ((E * E + eMax * eMax) / eMax / (eMax - E))\n",
    "        \n",
    "        return tf.maximum(result, tf.zeros_like(result))"
   ]
  },
  {
   "cell_type": "code",
   "execution_count": 12,
   "metadata": {},
   "outputs": [
    {
     "ename": "NameError",
     "evalue": "name 'CEyield' is not defined",
     "output_type": "error",
     "traceback": [
      "\u001b[0;31m---------------------------------------------------------------------------\u001b[0m",
      "\u001b[0;31mNameError\u001b[0m                                 Traceback (most recent call last)",
      "\u001b[0;32m<ipython-input-12-0db01a6344d0>\u001b[0m in \u001b[0;36m<module>\u001b[0;34m\u001b[0m\n\u001b[1;32m      9\u001b[0m \u001b[0mce_eff\u001b[0m \u001b[0;34m=\u001b[0m \u001b[0mce\u001b[0m\u001b[0;34m*\u001b[0m\u001b[0mefficiencyPDF\u001b[0m\u001b[0;34m\u001b[0m\u001b[0;34m\u001b[0m\u001b[0m\n\u001b[1;32m     10\u001b[0m \u001b[0mce_convoluted\u001b[0m \u001b[0;34m=\u001b[0m \u001b[0mzphys\u001b[0m\u001b[0;34m.\u001b[0m\u001b[0munstable\u001b[0m\u001b[0;34m.\u001b[0m\u001b[0mpdf\u001b[0m\u001b[0;34m.\u001b[0m\u001b[0mNumConvPDFUnbinnedV1\u001b[0m\u001b[0;34m(\u001b[0m\u001b[0mobs\u001b[0m\u001b[0;34m=\u001b[0m\u001b[0mobs_spectrum\u001b[0m\u001b[0;34m,\u001b[0m \u001b[0mfunc\u001b[0m\u001b[0;34m=\u001b[0m\u001b[0mce_eff\u001b[0m\u001b[0;34m,\u001b[0m \u001b[0mkernel\u001b[0m\u001b[0;34m=\u001b[0m\u001b[0mdscb\u001b[0m\u001b[0;34m,\u001b[0m \u001b[0mlimits\u001b[0m\u001b[0;34m=\u001b[0m\u001b[0mobs_spectrum\u001b[0m\u001b[0;34m)\u001b[0m\u001b[0;34m\u001b[0m\u001b[0;34m\u001b[0m\u001b[0m\n\u001b[0;32m---> 11\u001b[0;31m \u001b[0mce_convoluted\u001b[0m\u001b[0;34m.\u001b[0m\u001b[0m_set_yield\u001b[0m\u001b[0;34m(\u001b[0m\u001b[0mCEyield\u001b[0m\u001b[0;34m)\u001b[0m\u001b[0;34m\u001b[0m\u001b[0;34m\u001b[0m\u001b[0m\n\u001b[0m",
      "\u001b[0;31mNameError\u001b[0m: name 'CEyield' is not defined"
     ]
    }
   ],
   "source": [
    "efficiencyFunc = BinnedEfficiencyFunc(efficiency, eff_bins, obs_spectrum)\n",
    "efficiencyPDF = efficiencyFunc.as_pdf()\n",
    "efficiencyPDF.set_norm_range(obs_spectrum)\n",
    "yieldCE = zfit.Parameter(\"yieldCE\", 50, 0, 1000)\n",
    "\n",
    "ce = CESpectrumPDF(obs=obs_spectrum)\n",
    "# extended_ce = ce.create_extended(yieldCE)\n",
    "\n",
    "ce_eff = ce*efficiencyPDF\n",
    "ce_convoluted = zphys.unstable.pdf.NumConvPDFUnbinnedV1(obs=obs_spectrum, func=ce_eff, kernel=dscb, limits=obs_spectrum)\n"
   ]
  },
  {
   "cell_type": "code",
   "execution_count": 13,
   "metadata": {},
   "outputs": [],
   "source": [
    "ce_convoluted._set_yield(yieldCE)"
   ]
  },
  {
   "cell_type": "code",
   "execution_count": 14,
   "metadata": {
    "scrolled": false
   },
   "outputs": [],
   "source": [
    "sampler = ce_convoluted.create_sampler(n=55)\n",
    "sampler.resample()"
   ]
  },
  {
   "cell_type": "code",
   "execution_count": 15,
   "metadata": {},
   "outputs": [],
   "source": [
    "# sampler_spectrum = ce_eff.create_sampler(n=100)\n",
    "# sampler_spectrum.resample()"
   ]
  },
  {
   "cell_type": "code",
   "execution_count": 16,
   "metadata": {},
   "outputs": [],
   "source": [
    "data_conv = zfit.run(sampler)\n",
    "# data_spectrum = zfit.run(sampler_spectrum)"
   ]
  },
  {
   "cell_type": "code",
   "execution_count": 17,
   "metadata": {},
   "outputs": [
    {
     "data": {
      "text/plain": [
       "<matplotlib.legend.Legend at 0x15970b590>"
      ]
     },
     "execution_count": 17,
     "metadata": {},
     "output_type": "execute_result"
    },
    {
     "data": {
      "image/png": "[encoded data removed]",
      "text/plain": [
       "<Figure size 432x288 with 1 Axes>"
      ]
     },
     "metadata": {
      "needs_background": "light"
     },
     "output_type": "display_data"
    }
   ],
   "source": [
    "plt.hist(data_conv, bins=20, range=(95,115), histtype='step', label='Convoluted')\n",
    "# plt.hist(data_spectrum, bins=20, range=(95, 115), histtype='step', label='True')\n",
    "plt.legend()"
   ]
  },
  {
   "cell_type": "code",
   "execution_count": 18,
   "metadata": {},
   "outputs": [],
   "source": [
    "df = pickle.load(open( \"df_run.pickle\", \"rb\" ))"
   ]
  },
  {
   "cell_type": "code",
   "execution_count": 19,
   "metadata": {},
   "outputs": [
    {
     "name": "stdout",
     "output_type": "stream",
     "text": [
      "56\n"
     ]
    },
    {
     "data": {
      "image/png": "[encoded data removed]",
      "text/plain": [
       "<Figure size 432x288 with 1 Axes>"
      ]
     },
     "metadata": {
      "needs_background": "light"
     },
     "output_type": "display_data"
    }
   ],
   "source": [
    "data_mom = df['deent_mom'].to_numpy()\n",
    "print(len(data_mom))\n",
    "data_mom_zfit = zfit.data.Data.from_numpy(obs=obs_spectrum, array=data_mom)\n",
    "plt.hist(data_mom, bins=20, range=(95,115), label='Data')\n",
    "plt.hist(data_conv, bins=20, range=(95,115), histtype='step', label='Convoluted PDF')\n",
    "_ = plt.legend()"
   ]
  },
  {
   "cell_type": "code",
   "execution_count": 20,
   "metadata": {},
   "outputs": [
    {
     "name": "stdout",
     "output_type": "stream",
     "text": [
      "------------------------------------------------------------------\n",
      "| FCN = -100.6                  |      Ncalls=15 (15 total)      |\n",
      "| EDM = 0.00038 (Goal: 5E-05)   |            up = 0.5            |\n",
      "------------------------------------------------------------------\n",
      "|  Valid Min.   | Valid Param.  | Above EDM | Reached call limit |\n",
      "------------------------------------------------------------------\n",
      "|     True      |     True      |   False   |       False        |\n",
      "------------------------------------------------------------------\n",
      "| Hesse failed  |   Has cov.    | Accurate  | Pos. def. | Forced |\n",
      "------------------------------------------------------------------\n",
      "|     False     |     True      |   True    |   True    | False  |\n",
      "------------------------------------------------------------------\n"
     ]
    }
   ],
   "source": [
    "%load_ext wurlitzer\n",
    "nll_ce = zfit.loss.ExtendedUnbinnedNLL(model=ce_convoluted, data=data_mom_zfit, fit_range=(95, 115))  # loss\n",
    "minimizer_ce = zfit.minimize.Minuit(verbosity=7, use_minuit_grad=True)\n",
    "minimum_ce = minimizer_ce.minimize(loss=nll_ce)\n",
    "params_ce = minimum_ce.params"
   ]
  },
  {
   "cell_type": "code",
   "execution_count": 39,
   "metadata": {},
   "outputs": [
    {
     "name": "stdout",
     "output_type": "stream",
     "text": [
      "-6.949739701878311\n"
     ]
    }
   ],
   "source": [
    "print(minimum_ce.error(yieldCE)[yieldCE].lower)"
   ]
  },
  {
   "cell_type": "code",
   "execution_count": 33,
   "metadata": {},
   "outputs": [
    {
     "name": "stdout",
     "output_type": "stream",
     "text": [
      "{'error': 7.460910830523055}\n"
     ]
    }
   ],
   "source": [
    "print(params_ce[yieldCE]['minuit_hesse'])"
   ]
  },
  {
   "cell_type": "code",
   "execution_count": 22,
   "metadata": {},
   "outputs": [
    {
     "name": "stderr",
     "output_type": "stream",
     "text": [
      "WARNING: Logging before flag parsing goes to stderr.\n",
      "W0305 11:17:46.613054 4683828672 def_function.py:586] 5 out of the last 5 calls to <function BasePDF.pdf at 0x145eaf680> triggered tf.function retracing. Tracing is expensive and the excessive number of tracings is likely due to passing python objects instead of tensors. Also, tf.function has experimental_relax_shapes=True option that relaxes argument shapes that can avoid unnecessary retracing. Please refer to https://www.tensorflow.org/tutorials/customization/performance#python_or_tensor_args and https://www.tensorflow.org/api_docs/python/tf/function for more details.\n"
     ]
    },
    {
     "data": {
      "text/plain": [
       "(0.5, 88.74279246246144)"
      ]
     },
     "execution_count": 22,
     "metadata": {},
     "output_type": "execute_result"
    },
    {
     "data": {
      "image/png": "[encoded data removed]",
      "text/plain": [
       "<Figure size 432x288 with 1 Axes>"
      ]
     },
     "metadata": {
      "needs_background": "light"
     },
     "output_type": "display_data"
    }
   ],
   "source": [
    "n_bins = 20\n",
    "range_ = (95,115)\n",
    "_ = plt.hist(data_mom, bins=n_bins, range=range_, histtype='step', )\n",
    "x = np.linspace(*range_, num=1000)\n",
    "with ce_convoluted.set_norm_range(range_):\n",
    "    pdf = zfit.run(ce_convoluted.pdf(x))\n",
    "_ = plt.plot(x, data_mom.shape[0] / n_bins * (range_[1] - range_[0]) * pdf)\n",
    "\n",
    "plt.yscale('log')\n",
    "plt.ylim(bottom=0.5)"
   ]
  },
  {
   "cell_type": "code",
   "execution_count": 25,
   "metadata": {},
   "outputs": [
    {
     "data": {
      "text/plain": [
       "1.006790995092662"
      ]
     },
     "execution_count": 25,
     "metadata": {},
     "output_type": "execute_result"
    }
   ],
   "source": [
    "zfit.run(ce_convoluted.integrate((90,110)))"
   ]
  },
  {
   "cell_type": "code",
   "execution_count": null,
   "metadata": {},
   "outputs": [],
   "source": []
  }
 ],
 "metadata": {
  "kernelspec": {
   "display_name": "Python 3",
   "language": "python",
   "name": "python3"
  },
  "language_info": {
   "codemirror_mode": {
    "name": "ipython",
    "version": 3
   },
   "file_extension": ".py",
   "mimetype": "text/x-python",
   "name": "python",
   "nbconvert_exporter": "python",
   "pygments_lexer": "ipython3",
   "version": "3.7.6"
  }
 },
 "nbformat": 4,
 "nbformat_minor": 4
}
