{
 "cells": [
  {
   "cell_type": "code",
   "execution_count": 2,
   "metadata": {},
   "outputs": [],
   "source": [
    "import numpy as np\n",
    "import tensorflow as tf\n",
    "import scipy.stats\n",
    "import zfit_physics as zphys\n",
    "\n",
    "import zfit\n",
    "from zfit import z\n",
    "from particle import Particle\n",
    "from scipy.constants import alpha\n",
    "from mendeleev import Al\n",
    "from math import pi\n",
    "import uproot\n",
    "import matplotlib.pyplot as plt"
   ]
  },
  {
   "cell_type": "code",
   "execution_count": 3,
   "metadata": {
    "scrolled": false
   },
   "outputs": [],
   "source": [
    "import pickle\n",
    "\n",
    "df_eminus = pickle.load( open( \"df.pickle\", \"rb\" ) )"
   ]
  },
  {
   "cell_type": "code",
   "execution_count": 4,
   "metadata": {},
   "outputs": [],
   "source": [
    "obs = zfit.Space('x', limits=(-10, 10))\n",
    "mu_true = 0\n",
    "sigma_true = 1\n",
    "\n",
    "data_res = df_eminus['res'].to_numpy()\n",
    "data = zfit.data.Data.from_numpy(obs=obs, array=data_res)"
   ]
  },
  {
   "cell_type": "code",
   "execution_count": 5,
   "metadata": {},
   "outputs": [],
   "source": [
    "mu = zfit.Parameter(\"mu\", 0, -1., 1)\n",
    "sigma = zfit.Parameter(\"sigma\", 1.3, 0, 5.)\n",
    "alphal = zfit.Parameter(\"alphal\", 1, 0, 5)\n",
    "alphar = zfit.Parameter(\"alphar\", 1, 0, 5)\n",
    "nr = zfit.Parameter(\"nr\", 5, 0, 50)\n",
    "nl = zfit.Parameter(\"nl\", 20, 0, 5)\n"
   ]
  },
  {
   "cell_type": "code",
   "execution_count": 6,
   "metadata": {},
   "outputs": [],
   "source": [
    "dscb = zfit.models.physics.DoubleCB(obs=obs, mu=mu, sigma=sigma,alphal=alphal, nl=nl, alphar=alphar, nr=nr)"
   ]
  },
  {
   "cell_type": "code",
   "execution_count": 7,
   "metadata": {},
   "outputs": [
    {
     "name": "stdout",
     "output_type": "stream",
     "text": [
      "------------------------------------------------------------------\n",
      "| FCN = 3.06E+04                |     Ncalls=214 (214 total)     |\n",
      "| EDM = 5.52E-05 (Goal: 5E-05)  |            up = 0.5            |\n",
      "------------------------------------------------------------------\n",
      "|  Valid Min.   | Valid Param.  | Above EDM | Reached call limit |\n",
      "------------------------------------------------------------------\n",
      "|     True      |     True      |   False   |       False        |\n",
      "------------------------------------------------------------------\n",
      "| Hesse failed  |   Has cov.    | Accurate  | Pos. def. | Forced |\n",
      "------------------------------------------------------------------\n",
      "|     False     |     True      |   True    |   True    | False  |\n",
      "------------------------------------------------------------------\n"
     ]
    }
   ],
   "source": [
    "# Create the negative log likelihood\n",
    "\n",
    "nll = zfit.loss.UnbinnedNLL(model=dscb, data=data, fit_range=(-10,10))  # loss\n",
    "\n",
    "# Load and instantiate a minimizer\n",
    "minimizer = zfit.minimize.Minuit()\n",
    "minimum = minimizer.minimize(loss=nll)\n",
    "# Get the fitted values, again by run the variable graphs\n",
    "params = minimum.params"
   ]
  },
  {
   "cell_type": "code",
   "execution_count": 8,
   "metadata": {},
   "outputs": [
    {
     "name": "stdout",
     "output_type": "stream",
     "text": [
      "tf.Tensor([6.14973294e-12], shape=(1,), dtype=float64)\n"
     ]
    },
    {
     "data": {
      "image/png": "[encoded data removed]",
      "text/plain": [
       "<Figure size 432x288 with 1 Axes>"
      ]
     },
     "metadata": {
      "needs_background": "light"
     },
     "output_type": "display_data"
    }
   ],
   "source": [
    "n_bins = 50\n",
    "range_ = (-10,10)\n",
    "_ = plt.hist(data_res, bins=n_bins, range=range_, histtype='step', )\n",
    "x = np.linspace(*range_, num=1000)\n",
    "with dscb.set_norm_range(range_):\n",
    "    pdf = zfit.run(dscb.pdf(x))\n",
    "_ = plt.plot(x, data_res.shape[0] / n_bins * (range_[1] - range_[0]) * pdf)\n",
    "\n",
    "plt.yscale('log')\n",
    "plt.ylim(0.5, 100000)\n",
    "print(dscb.pdf(100))"
   ]
  },
  {
   "cell_type": "code",
   "execution_count": 9,
   "metadata": {},
   "outputs": [],
   "source": [
    "total_electrons = 564554.6615075701\n",
    "n_cuts, eff_bins = np.histogram(df_eminus[\"demcgen_mom\"], range=(95,115), bins=80)\n",
    "efficiency = n_cuts/(total_electrons/80)\n",
    "efficiency = np.insert(efficiency, 0, 0, axis=0)\n",
    "efficiency = np.insert(efficiency, len(efficiency), 0, axis=0)"
   ]
  },
  {
   "cell_type": "code",
   "execution_count": 10,
   "metadata": {},
   "outputs": [],
   "source": [
    "obs_spectrum = zfit.Space('x', limits=(95, 115))\n",
    "zfit.settings.options['numerical_grad'] = True\n",
    "\n",
    "class BinnedEfficiencyFunc(zfit.func.ZFunc):\n",
    "    _PARAMS = []\n",
    "\n",
    "    def __init__(self, efficiency, eff_bins, obs, name='BinnedEfficiencyFunc'):\n",
    "        self.efficiency = efficiency\n",
    "        self.eff_bins = eff_bins\n",
    "        super().__init__(obs=obs, name=name)\n",
    "        \n",
    "    def _binContent(self, x):\n",
    "        eff_bin = np.digitize(x, self.eff_bins)\n",
    "        return self.efficiency[eff_bin]\n",
    "   \n",
    "    def _func(self, x):\n",
    "        x = zfit.ztf.unstack_x(x)\n",
    "        probs = z.py_function(func=self._binContent, inp=[x], Tout=tf.float64)\n",
    "        probs.set_shape(x.shape)\n",
    "        return probs"
   ]
  },
  {
   "cell_type": "code",
   "execution_count": 11,
   "metadata": {},
   "outputs": [],
   "source": [
    "muon = Particle.from_pdgid(13)\n",
    "proton = Particle.from_pdgid(2212)\n",
    "electron = Particle.from_pdgid(11)\n",
    "\n",
    "bound_energy = Al.atomic_number**2 * alpha**2 * muon.mass / 2\n",
    "recoil_energy = muon.mass**2/(2 * Al.mass * proton.mass)\n",
    "eMax = muon.mass - bound_energy - recoil_energy\n",
    "\n",
    "class CESpectrumPDF(zfit.pdf.ZPDF):\n",
    "    _PARAMS = []  # the name of the parameters\n",
    "\n",
    "    def _unnormalized_pdf(self, x): \n",
    "        x = zfit.ztf.unstack_x(x)\n",
    "        \n",
    "        me = zfit.ztf.constant(electron.mass)\n",
    "        eMax = zfit.ztf.constant(muon.mass - bound_energy - recoil_energy)\n",
    "        alpha_c = zfit.ztf.constant(alpha)\n",
    "        pi_c = zfit.ztf.constant(pi)\n",
    "        \n",
    "        E = zfit.ztf.sqrt(x * x + me * me)\n",
    "        result = (1. / eMax) * (alpha_c / (2 * pi_c)) * (zfit.ztf.log(4 * E * E / me / me) - 2.) * ((E * E + eMax * eMax) / eMax / (eMax - E))\n",
    "        \n",
    "        return tf.maximum(result, tf.zeros_like(result))"
   ]
  },
  {
   "cell_type": "code",
   "execution_count": 12,
   "metadata": {},
   "outputs": [],
   "source": [
    "efficiencyFunc = BinnedEfficiencyFunc(efficiency, eff_bins, obs_spectrum)\n",
    "efficiencyPDF = efficiencyFunc.as_pdf()\n",
    "efficiencyPDF.set_norm_range(obs_spectrum)\n",
    "yieldCE = zfit.Parameter(\"yieldCE\", 50, 0, 1000)\n",
    "\n",
    "ce = CESpectrumPDF(obs=obs_spectrum)\n",
    "extended_ce = ce.create_extended(yieldCE)\n",
    "\n",
    "ce_eff = extended_ce*efficiencyPDF\n",
    "ce_convoluted = zphys.unstable.pdf.NumConvPDFUnbinnedV1(obs=obs_spectrum, func=ce_eff, kernel=dscb, limits=obs_spectrum)"
   ]
  },
  {
   "cell_type": "code",
   "execution_count": 13,
   "metadata": {
    "scrolled": false
   },
   "outputs": [],
   "source": [
    "sampler = ce_convoluted.create_sampler(n=55)\n",
    "sampler.resample()"
   ]
  },
  {
   "cell_type": "code",
   "execution_count": 14,
   "metadata": {},
   "outputs": [],
   "source": [
    "# sampler_spectrum = ce_eff.create_sampler(n=100)\n",
    "# sampler_spectrum.resample()"
   ]
  },
  {
   "cell_type": "code",
   "execution_count": 15,
   "metadata": {},
   "outputs": [],
   "source": [
    "data_conv = zfit.run(sampler)\n",
    "# data_spectrum = zfit.run(sampler_spectrum)"
   ]
  },
  {
   "cell_type": "code",
   "execution_count": 16,
   "metadata": {},
   "outputs": [
    {
     "data": {
      "text/plain": [
       "<matplotlib.legend.Legend at 0x1494e2110>"
      ]
     },
     "execution_count": 16,
     "metadata": {},
     "output_type": "execute_result"
    },
    {
     "data": {
      "image/png": "[encoded data removed]",
      "text/plain": [
       "<Figure size 432x288 with 1 Axes>"
      ]
     },
     "metadata": {
      "needs_background": "light"
     },
     "output_type": "display_data"
    }
   ],
   "source": [
    "plt.hist(data_conv, bins=20, range=(95,115), histtype='step', label='Convoluted')\n",
    "# plt.hist(data_spectrum, bins=20, range=(95, 115), histtype='step', label='True')\n",
    "plt.legend()"
   ]
  },
  {
   "cell_type": "code",
   "execution_count": 17,
   "metadata": {},
   "outputs": [],
   "source": [
    "df = pickle.load(open( \"df_run.pickle\", \"rb\" ))"
   ]
  },
  {
   "cell_type": "code",
   "execution_count": 18,
   "metadata": {},
   "outputs": [
    {
     "data": {
      "image/png": "[encoded data removed]",
      "text/plain": [
       "<Figure size 432x288 with 1 Axes>"
      ]
     },
     "metadata": {
      "needs_background": "light"
     },
     "output_type": "display_data"
    }
   ],
   "source": [
    "data_mom = df['deent_mom'].to_numpy()\n",
    "data_mom_zfit = zfit.data.Data.from_numpy(obs=obs_spectrum, array=data_mom)\n",
    "plt.hist(data_mom, bins=20, range=(95,115), label='Data')\n",
    "plt.hist(data_conv, bins=20, range=(95,115), histtype='step', label='Convoluted PDF')\n",
    "_ = plt.legend()"
   ]
  },
  {
   "cell_type": "code",
   "execution_count": 20,
   "metadata": {},
   "outputs": [
    {
     "name": "stderr",
     "output_type": "stream",
     "text": [
      "WARNING: Logging before flag parsing goes to stderr.\n",
      "W0305 10:31:36.476135 4359253440 deprecation.py:323] From <ipython-input-20-779d182a8bae>:2: MinuitMinimizer (from zfit.minimize) is deprecated and will be removed in a future version.\n",
      "Instructions for updating:\n",
      "Use zfit.minimize.Minuit instead.\n"
     ]
    },
    {
     "ename": "RuntimeError",
     "evalue": "exception was raised in user function\nUser function arguments:\n    yieldCE = +49.998836\n     alphal = +0.615553\n     alphar = +2.521370\n         mu = -0.612565\n         nl = +3.356107\n         nr = +4.218306\n      sigma = +0.284283\nOriginal python exception in user function:\nKeyboardInterrupt: \n  File \"/usr/local/lib/python3.7/site-packages/zfit/minimizers/minimizer_minuit.py\", line 105, in func\n    loss_evaluated = loss.value().numpy()\n  File \"/usr/local/lib/python3.7/site-packages/zfit/core/loss.py\", line 213, in value\n    return self._value()\n  File \"/usr/local/lib/python3.7/site-packages/zfit/core/loss.py\", line 222, in _value\n    constraints=self.constraints)\n  File \"/usr/local/lib/python3.7/site-packages/zfit/z/zextension.py\", line 177, in concrete_func\n    return call_correct_signature(func, args, kwargs)\n  File \"/usr/local/lib/python3.7/site-packages/zfit/z/zextension.py\", line 172, in call_correct_signature\n    return func(*args, **kwargs)\n  File \"/usr/local/lib/python3.7/site-packages/zfit/core/loss.py\", line 329, in _loss_func\n    nll = self._loss_func_watched(constraints, data, fit_range, model)\n  File \"/usr/local/lib/python3.7/site-packages/zfit/z/zextension.py\", line 196, in concrete_func\n    result = call_correct_signature(func_to_run, args, kwargs)\n  File \"/usr/local/lib/python3.7/site-packages/zfit/z/zextension.py\", line 168, in call_correct_signature\n    return func(*args)\n  File \"/usr/local/lib/python3.7/site-packages/tensorflow_core/python/eager/def_function.py\", line 568, in __call__\n    result = self._call(*args, **kwds)\n  File \"/usr/local/lib/python3.7/site-packages/tensorflow_core/python/eager/def_function.py\", line 606, in _call\n    results = self._stateful_fn(*args, **kwds)\n  File \"/usr/local/lib/python3.7/site-packages/tensorflow_core/python/eager/function.py\", line 2363, in __call__\n    return graph_function._filtered_call(args, kwargs)  # pylint: disable=protected-access\n  File \"/usr/local/lib/python3.7/site-packages/tensorflow_core/python/eager/function.py\", line 1611, in _filtered_call\n    self.captured_inputs)\n  File \"/usr/local/lib/python3.7/site-packages/tensorflow_core/python/eager/function.py\", line 1692, in _call_flat\n    ctx, args, cancellation_manager=cancellation_manager))\n  File \"/usr/local/lib/python3.7/site-packages/tensorflow_core/python/eager/function.py\", line 545, in call\n    ctx=ctx)\n  File \"/usr/local/lib/python3.7/site-packages/tensorflow_core/python/eager/execute.py\", line 61, in quick_execute\n    num_outputs)\n",
     "output_type": "error",
     "traceback": [
      "\u001b[0;31m---------------------------------------------------------------------------\u001b[0m",
      "\u001b[0;31mRuntimeError\u001b[0m                              Traceback (most recent call last)",
      "\u001b[0;32m<ipython-input-20-779d182a8bae>\u001b[0m in \u001b[0;36m<module>\u001b[0;34m\u001b[0m\n\u001b[1;32m      1\u001b[0m \u001b[0mnll_ce\u001b[0m \u001b[0;34m=\u001b[0m \u001b[0mzfit\u001b[0m\u001b[0;34m.\u001b[0m\u001b[0mloss\u001b[0m\u001b[0;34m.\u001b[0m\u001b[0mUnbinnedNLL\u001b[0m\u001b[0;34m(\u001b[0m\u001b[0mmodel\u001b[0m\u001b[0;34m=\u001b[0m\u001b[0mce_convoluted\u001b[0m\u001b[0;34m,\u001b[0m \u001b[0mdata\u001b[0m\u001b[0;34m=\u001b[0m\u001b[0mdata_mom_zfit\u001b[0m\u001b[0;34m,\u001b[0m \u001b[0mfit_range\u001b[0m\u001b[0;34m=\u001b[0m\u001b[0;34m(\u001b[0m\u001b[0;36m95\u001b[0m\u001b[0;34m,\u001b[0m \u001b[0;36m115\u001b[0m\u001b[0;34m)\u001b[0m\u001b[0;34m)\u001b[0m  \u001b[0;31m# loss\u001b[0m\u001b[0;34m\u001b[0m\u001b[0;34m\u001b[0m\u001b[0m\n\u001b[1;32m      2\u001b[0m \u001b[0mminimizer_ce\u001b[0m \u001b[0;34m=\u001b[0m \u001b[0mzfit\u001b[0m\u001b[0;34m.\u001b[0m\u001b[0mminimize\u001b[0m\u001b[0;34m.\u001b[0m\u001b[0mMinuitMinimizer\u001b[0m\u001b[0;34m(\u001b[0m\u001b[0mverbosity\u001b[0m\u001b[0;34m=\u001b[0m\u001b[0;36m7\u001b[0m\u001b[0;34m,\u001b[0m \u001b[0muse_minuit_grad\u001b[0m\u001b[0;34m=\u001b[0m\u001b[0;32mTrue\u001b[0m\u001b[0;34m)\u001b[0m\u001b[0;34m\u001b[0m\u001b[0;34m\u001b[0m\u001b[0m\n\u001b[0;32m----> 3\u001b[0;31m \u001b[0mminimum_ce\u001b[0m \u001b[0;34m=\u001b[0m \u001b[0mminimizer_ce\u001b[0m\u001b[0;34m.\u001b[0m\u001b[0mminimize\u001b[0m\u001b[0;34m(\u001b[0m\u001b[0mloss\u001b[0m\u001b[0;34m=\u001b[0m\u001b[0mnll_ce\u001b[0m\u001b[0;34m)\u001b[0m\u001b[0;34m\u001b[0m\u001b[0;34m\u001b[0m\u001b[0m\n\u001b[0m\u001b[1;32m      4\u001b[0m \u001b[0mparams_ce\u001b[0m \u001b[0;34m=\u001b[0m \u001b[0mminimum_ce\u001b[0m\u001b[0;34m.\u001b[0m\u001b[0mparams\u001b[0m\u001b[0;34m\u001b[0m\u001b[0;34m\u001b[0m\u001b[0m\n",
      "\u001b[0;32m/usr/local/lib/python3.7/site-packages/zfit/minimizers/baseminimizer.py\u001b[0m in \u001b[0;36mminimize\u001b[0;34m(self, loss, params)\u001b[0m\n\u001b[1;32m    219\u001b[0m         \u001b[0mparams\u001b[0m \u001b[0;34m=\u001b[0m \u001b[0mself\u001b[0m\u001b[0;34m.\u001b[0m\u001b[0m_check_input_params\u001b[0m\u001b[0;34m(\u001b[0m\u001b[0mloss\u001b[0m\u001b[0;34m=\u001b[0m\u001b[0mloss\u001b[0m\u001b[0;34m,\u001b[0m \u001b[0mparams\u001b[0m\u001b[0;34m=\u001b[0m\u001b[0mparams\u001b[0m\u001b[0;34m,\u001b[0m \u001b[0monly_floating\u001b[0m\u001b[0;34m=\u001b[0m\u001b[0;32mTrue\u001b[0m\u001b[0;34m)\u001b[0m\u001b[0;34m\u001b[0m\u001b[0;34m\u001b[0m\u001b[0m\n\u001b[1;32m    220\u001b[0m         \u001b[0;32mtry\u001b[0m\u001b[0;34m:\u001b[0m\u001b[0;34m\u001b[0m\u001b[0;34m\u001b[0m\u001b[0m\n\u001b[0;32m--> 221\u001b[0;31m             \u001b[0;32mreturn\u001b[0m \u001b[0mself\u001b[0m\u001b[0;34m.\u001b[0m\u001b[0m_hook_minimize\u001b[0m\u001b[0;34m(\u001b[0m\u001b[0mloss\u001b[0m\u001b[0;34m=\u001b[0m\u001b[0mloss\u001b[0m\u001b[0;34m,\u001b[0m \u001b[0mparams\u001b[0m\u001b[0;34m=\u001b[0m\u001b[0mparams\u001b[0m\u001b[0;34m)\u001b[0m\u001b[0;34m\u001b[0m\u001b[0;34m\u001b[0m\u001b[0m\n\u001b[0m\u001b[1;32m    222\u001b[0m         \u001b[0;32mexcept\u001b[0m \u001b[0;34m(\u001b[0m\u001b[0mFailMinimizeNaN\u001b[0m\u001b[0;34m,\u001b[0m \u001b[0mRuntimeError\u001b[0m\u001b[0;34m)\u001b[0m \u001b[0;32mas\u001b[0m \u001b[0merror\u001b[0m\u001b[0;34m:\u001b[0m  \u001b[0;31m# iminuit raises RuntimeError if user raises Error\u001b[0m\u001b[0;34m\u001b[0m\u001b[0;34m\u001b[0m\u001b[0m\n\u001b[1;32m    223\u001b[0m             \u001b[0mfail_result\u001b[0m \u001b[0;34m=\u001b[0m \u001b[0mself\u001b[0m\u001b[0;34m.\u001b[0m\u001b[0mstrategy\u001b[0m\u001b[0;34m.\u001b[0m\u001b[0mfit_result\u001b[0m\u001b[0;34m\u001b[0m\u001b[0;34m\u001b[0m\u001b[0m\n",
      "\u001b[0;32m/usr/local/lib/python3.7/site-packages/zfit/minimizers/baseminimizer.py\u001b[0m in \u001b[0;36m_hook_minimize\u001b[0;34m(self, loss, params)\u001b[0m\n\u001b[1;32m    228\u001b[0m \u001b[0;34m\u001b[0m\u001b[0m\n\u001b[1;32m    229\u001b[0m     \u001b[0;32mdef\u001b[0m \u001b[0m_hook_minimize\u001b[0m\u001b[0;34m(\u001b[0m\u001b[0mself\u001b[0m\u001b[0;34m,\u001b[0m \u001b[0mloss\u001b[0m\u001b[0;34m,\u001b[0m \u001b[0mparams\u001b[0m\u001b[0;34m)\u001b[0m\u001b[0;34m:\u001b[0m\u001b[0;34m\u001b[0m\u001b[0;34m\u001b[0m\u001b[0m\n\u001b[0;32m--> 230\u001b[0;31m         \u001b[0;32mreturn\u001b[0m \u001b[0mself\u001b[0m\u001b[0;34m.\u001b[0m\u001b[0m_call_minimize\u001b[0m\u001b[0;34m(\u001b[0m\u001b[0mloss\u001b[0m\u001b[0;34m=\u001b[0m\u001b[0mloss\u001b[0m\u001b[0;34m,\u001b[0m \u001b[0mparams\u001b[0m\u001b[0;34m=\u001b[0m\u001b[0mparams\u001b[0m\u001b[0;34m)\u001b[0m\u001b[0;34m\u001b[0m\u001b[0;34m\u001b[0m\u001b[0m\n\u001b[0m\u001b[1;32m    231\u001b[0m \u001b[0;34m\u001b[0m\u001b[0m\n\u001b[1;32m    232\u001b[0m     \u001b[0;32mdef\u001b[0m \u001b[0m_call_minimize\u001b[0m\u001b[0;34m(\u001b[0m\u001b[0mself\u001b[0m\u001b[0;34m,\u001b[0m \u001b[0mloss\u001b[0m\u001b[0;34m,\u001b[0m \u001b[0mparams\u001b[0m\u001b[0;34m)\u001b[0m\u001b[0;34m:\u001b[0m\u001b[0;34m\u001b[0m\u001b[0;34m\u001b[0m\u001b[0m\n",
      "\u001b[0;32m/usr/local/lib/python3.7/site-packages/zfit/minimizers/baseminimizer.py\u001b[0m in \u001b[0;36m_call_minimize\u001b[0;34m(self, loss, params)\u001b[0m\n\u001b[1;32m    232\u001b[0m     \u001b[0;32mdef\u001b[0m \u001b[0m_call_minimize\u001b[0m\u001b[0;34m(\u001b[0m\u001b[0mself\u001b[0m\u001b[0;34m,\u001b[0m \u001b[0mloss\u001b[0m\u001b[0;34m,\u001b[0m \u001b[0mparams\u001b[0m\u001b[0;34m)\u001b[0m\u001b[0;34m:\u001b[0m\u001b[0;34m\u001b[0m\u001b[0;34m\u001b[0m\u001b[0m\n\u001b[1;32m    233\u001b[0m         \u001b[0;32mtry\u001b[0m\u001b[0;34m:\u001b[0m\u001b[0;34m\u001b[0m\u001b[0;34m\u001b[0m\u001b[0m\n\u001b[0;32m--> 234\u001b[0;31m             \u001b[0;32mreturn\u001b[0m \u001b[0mself\u001b[0m\u001b[0;34m.\u001b[0m\u001b[0m_minimize\u001b[0m\u001b[0;34m(\u001b[0m\u001b[0mloss\u001b[0m\u001b[0;34m=\u001b[0m\u001b[0mloss\u001b[0m\u001b[0;34m,\u001b[0m \u001b[0mparams\u001b[0m\u001b[0;34m=\u001b[0m\u001b[0mparams\u001b[0m\u001b[0;34m)\u001b[0m\u001b[0;34m\u001b[0m\u001b[0;34m\u001b[0m\u001b[0m\n\u001b[0m\u001b[1;32m    235\u001b[0m         \u001b[0;32mexcept\u001b[0m \u001b[0mNotImplementedError\u001b[0m \u001b[0;32mas\u001b[0m \u001b[0merror\u001b[0m\u001b[0;34m:\u001b[0m\u001b[0;34m\u001b[0m\u001b[0;34m\u001b[0m\u001b[0m\n\u001b[1;32m    236\u001b[0m             \u001b[0;32mtry\u001b[0m\u001b[0;34m:\u001b[0m\u001b[0;34m\u001b[0m\u001b[0;34m\u001b[0m\u001b[0m\n",
      "\u001b[0;32m/usr/local/lib/python3.7/site-packages/zfit/minimizers/minimizer_minuit.py\u001b[0m in \u001b[0;36m_minimize\u001b[0;34m(self, loss, params)\u001b[0m\n\u001b[1;32m    171\u001b[0m             minimizer_setter)\n\u001b[1;32m    172\u001b[0m         \u001b[0mself\u001b[0m\u001b[0;34m.\u001b[0m\u001b[0m_minuit_minimizer\u001b[0m \u001b[0;34m=\u001b[0m \u001b[0mminimizer\u001b[0m\u001b[0;34m\u001b[0m\u001b[0;34m\u001b[0m\u001b[0m\n\u001b[0;32m--> 173\u001b[0;31m         \u001b[0mresult\u001b[0m \u001b[0;34m=\u001b[0m \u001b[0mminimizer\u001b[0m\u001b[0;34m.\u001b[0m\u001b[0mmigrad\u001b[0m\u001b[0;34m(\u001b[0m\u001b[0;34m**\u001b[0m\u001b[0mminimize_options\u001b[0m\u001b[0;34m)\u001b[0m\u001b[0;34m\u001b[0m\u001b[0;34m\u001b[0m\u001b[0m\n\u001b[0m\u001b[1;32m    174\u001b[0m         \u001b[0mparams_result\u001b[0m \u001b[0;34m=\u001b[0m \u001b[0;34m[\u001b[0m\u001b[0mp_dict\u001b[0m \u001b[0;32mfor\u001b[0m \u001b[0mp_dict\u001b[0m \u001b[0;32min\u001b[0m \u001b[0mresult\u001b[0m\u001b[0;34m[\u001b[0m\u001b[0;36m1\u001b[0m\u001b[0;34m]\u001b[0m\u001b[0;34m]\u001b[0m\u001b[0;34m\u001b[0m\u001b[0;34m\u001b[0m\u001b[0m\n\u001b[1;32m    175\u001b[0m         \u001b[0mresult_vals\u001b[0m \u001b[0;34m=\u001b[0m \u001b[0;34m[\u001b[0m\u001b[0mres\u001b[0m\u001b[0;34m[\u001b[0m\u001b[0;34m\"value\"\u001b[0m\u001b[0;34m]\u001b[0m \u001b[0;32mfor\u001b[0m \u001b[0mres\u001b[0m \u001b[0;32min\u001b[0m \u001b[0mparams_result\u001b[0m\u001b[0;34m]\u001b[0m\u001b[0;34m\u001b[0m\u001b[0;34m\u001b[0m\u001b[0m\n",
      "\u001b[0;32miminuit/_libiminuit.pyx\u001b[0m in \u001b[0;36miminuit._libiminuit.Minuit.migrad\u001b[0;34m()\u001b[0m\n",
      "\u001b[0;31mRuntimeError\u001b[0m: exception was raised in user function\nUser function arguments:\n    yieldCE = +49.998836\n     alphal = +0.615553\n     alphar = +2.521370\n         mu = -0.612565\n         nl = +3.356107\n         nr = +4.218306\n      sigma = +0.284283\nOriginal python exception in user function:\nKeyboardInterrupt: \n  File \"/usr/local/lib/python3.7/site-packages/zfit/minimizers/minimizer_minuit.py\", line 105, in func\n    loss_evaluated = loss.value().numpy()\n  File \"/usr/local/lib/python3.7/site-packages/zfit/core/loss.py\", line 213, in value\n    return self._value()\n  File \"/usr/local/lib/python3.7/site-packages/zfit/core/loss.py\", line 222, in _value\n    constraints=self.constraints)\n  File \"/usr/local/lib/python3.7/site-packages/zfit/z/zextension.py\", line 177, in concrete_func\n    return call_correct_signature(func, args, kwargs)\n  File \"/usr/local/lib/python3.7/site-packages/zfit/z/zextension.py\", line 172, in call_correct_signature\n    return func(*args, **kwargs)\n  File \"/usr/local/lib/python3.7/site-packages/zfit/core/loss.py\", line 329, in _loss_func\n    nll = self._loss_func_watched(constraints, data, fit_range, model)\n  File \"/usr/local/lib/python3.7/site-packages/zfit/z/zextension.py\", line 196, in concrete_func\n    result = call_correct_signature(func_to_run, args, kwargs)\n  File \"/usr/local/lib/python3.7/site-packages/zfit/z/zextension.py\", line 168, in call_correct_signature\n    return func(*args)\n  File \"/usr/local/lib/python3.7/site-packages/tensorflow_core/python/eager/def_function.py\", line 568, in __call__\n    result = self._call(*args, **kwds)\n  File \"/usr/local/lib/python3.7/site-packages/tensorflow_core/python/eager/def_function.py\", line 606, in _call\n    results = self._stateful_fn(*args, **kwds)\n  File \"/usr/local/lib/python3.7/site-packages/tensorflow_core/python/eager/function.py\", line 2363, in __call__\n    return graph_function._filtered_call(args, kwargs)  # pylint: disable=protected-access\n  File \"/usr/local/lib/python3.7/site-packages/tensorflow_core/python/eager/function.py\", line 1611, in _filtered_call\n    self.captured_inputs)\n  File \"/usr/local/lib/python3.7/site-packages/tensorflow_core/python/eager/function.py\", line 1692, in _call_flat\n    ctx, args, cancellation_manager=cancellation_manager))\n  File \"/usr/local/lib/python3.7/site-packages/tensorflow_core/python/eager/function.py\", line 545, in call\n    ctx=ctx)\n  File \"/usr/local/lib/python3.7/site-packages/tensorflow_core/python/eager/execute.py\", line 61, in quick_execute\n    num_outputs)\n"
     ]
    }
   ],
   "source": [
    "nll_ce = zfit.loss.UnbinnedNLL(model=ce_convoluted, data=data_mom_zfit, fit_range=(95, 115))  # loss\n",
    "minimizer_ce = zfit.minimize.MinuitMinimizer(verbosity=7, use_minuit_grad=True)\n",
    "minimum_ce = minimizer_ce.minimize(loss=nll_ce)\n",
    "params_ce = minimum_ce.params"
   ]
  },
  {
   "cell_type": "code",
   "execution_count": null,
   "metadata": {},
   "outputs": [],
   "source": []
  }
 ],
 "metadata": {
  "kernelspec": {
   "display_name": "Python 3",
   "language": "python",
   "name": "python3"
  },
  "language_info": {
   "codemirror_mode": {
    "name": "ipython",
    "version": 3
   },
   "file_extension": ".py",
   "mimetype": "text/x-python",
   "name": "python",
   "nbconvert_exporter": "python",
   "pygments_lexer": "ipython3",
   "version": "3.7.6"
  }
 },
 "nbformat": 4,
 "nbformat_minor": 4
}
